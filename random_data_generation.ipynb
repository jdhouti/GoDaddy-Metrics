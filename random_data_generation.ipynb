{
 "cells": [
  {
   "cell_type": "markdown",
   "metadata": {},
   "source": [
    "# Random Data Generation\n",
    "#### By Julien Dhouti\n",
    "GoDaddy told me I couldn't release any of my work data :( so I had to generate random data from the work data. This is the notebook that does so."
   ]
  },
  {
   "cell_type": "code",
   "execution_count": 1,
   "metadata": {},
   "outputs": [],
   "source": [
    "import pandas as pd\n",
    "import numpy as np"
   ]
  },
  {
   "cell_type": "code",
   "execution_count": 2,
   "metadata": {},
   "outputs": [],
   "source": [
    "df = pd.read_csv('clean_data.csv')\n",
    "df = df.drop(['Unnamed: 0'], axis=1)   # we don't care for the first column that was imported"
   ]
  },
  {
   "cell_type": "markdown",
   "metadata": {},
   "source": [
    "We start randomly generating the data using the handy numpy library.<br />\n",
    "Here in this section, we generate random customer availability based on the already given avaibility percentages."
   ]
  },
  {
   "cell_type": "code",
   "execution_count": 3,
   "metadata": {},
   "outputs": [
    {
     "data": {
      "text/plain": [
       "array([ 0.9823137 ,  0.90197904,  0.95474414,  0.86781271,  1.02353668,\n",
       "        0.81412529,  0.93606552,  0.86292229,  0.96887922,  0.81832643,\n",
       "        1.01544145,  1.04717629,  0.84890921,  0.8688426 ,  1.01327074,\n",
       "        0.95930932,  1.01814334,  0.92916629,  0.98462644])"
      ]
     },
     "execution_count": 3,
     "metadata": {},
     "output_type": "execute_result"
    }
   ],
   "source": [
    "min_avail = df.cust_avail_v3.min()\n",
    "max_avail = df.cust_avail_v3.max()\n",
    "size = df.cust_avail_v3.size\n",
    "\n",
    "cust_avail_v3 = np.random.uniform(min_avail, max_avail, size)\n",
    "cust_avail_v3"
   ]
  },
  {
   "cell_type": "markdown",
   "metadata": {},
   "source": [
    "Now that we have created random data fo the cust_avail_v3 column, we can go ahead and create the new dataframe and apply that data to it."
   ]
  },
  {
   "cell_type": "code",
   "execution_count": 4,
   "metadata": {},
   "outputs": [
    {
     "data": {
      "text/html": [
       "<div>\n",
       "<style>\n",
       "    .dataframe thead tr:only-child th {\n",
       "        text-align: right;\n",
       "    }\n",
       "\n",
       "    .dataframe thead th {\n",
       "        text-align: left;\n",
       "    }\n",
       "\n",
       "    .dataframe tbody tr th {\n",
       "        vertical-align: top;\n",
       "    }\n",
       "</style>\n",
       "<table border=\"1\" class=\"dataframe\">\n",
       "  <thead>\n",
       "    <tr style=\"text-align: right;\">\n",
       "      <th></th>\n",
       "      <th>cust_avail_v3</th>\n",
       "    </tr>\n",
       "  </thead>\n",
       "  <tbody>\n",
       "    <tr>\n",
       "      <th>0</th>\n",
       "      <td>0.982314</td>\n",
       "    </tr>\n",
       "    <tr>\n",
       "      <th>1</th>\n",
       "      <td>0.901979</td>\n",
       "    </tr>\n",
       "    <tr>\n",
       "      <th>2</th>\n",
       "      <td>0.954744</td>\n",
       "    </tr>\n",
       "    <tr>\n",
       "      <th>3</th>\n",
       "      <td>0.867813</td>\n",
       "    </tr>\n",
       "    <tr>\n",
       "      <th>4</th>\n",
       "      <td>1.023537</td>\n",
       "    </tr>\n",
       "  </tbody>\n",
       "</table>\n",
       "</div>"
      ],
      "text/plain": [
       "   cust_avail_v3\n",
       "0       0.982314\n",
       "1       0.901979\n",
       "2       0.954744\n",
       "3       0.867813\n",
       "4       1.023537"
      ]
     },
     "execution_count": 4,
     "metadata": {},
     "output_type": "execute_result"
    }
   ],
   "source": [
    "df2 = pd.DataFrame()   # create a new dataframe object\n",
    "df2['cust_avail_v3'] = cust_avail_v3   # apply the random column to the new dataframe\n",
    "df2.head()"
   ]
  },
  {
   "cell_type": "markdown",
   "metadata": {},
   "source": [
    "This can get tedious so we should probably create a function that can do this for any column that is not a dependent variable."
   ]
  },
  {
   "cell_type": "code",
   "execution_count": 5,
   "metadata": {},
   "outputs": [],
   "source": [
    "# create the function\n",
    "def generate_random(column):\n",
    "    \"\"\"The parameter is going to be a series. The function will do the rest.\"\"\"\n",
    "    col_max = column.max()  # get the max from the column\n",
    "    col_min = column.min()  # get the min from the column\n",
    "    size = column.size      # the size will be the same for all columns but we do this just in case\n",
    "    \n",
    "    d_type = column.dtype   # get the type of the column so that we can apply the right random function to it\n",
    "    \n",
    "    random_column = np.random.uniform(col_min, col_max, size)\n",
    "        \n",
    "    return random_column"
   ]
  },
  {
   "cell_type": "markdown",
   "metadata": {},
   "source": [
    "Now we can take this function for a test drive by applying it to the columns `css_count`, `css_score`, `orders`, `calls_per_day`, `new_sales`, and `new_conv`."
   ]
  },
  {
   "cell_type": "code",
   "execution_count": 6,
   "metadata": {},
   "outputs": [
    {
     "data": {
      "text/html": [
       "<div>\n",
       "<style>\n",
       "    .dataframe thead tr:only-child th {\n",
       "        text-align: right;\n",
       "    }\n",
       "\n",
       "    .dataframe thead th {\n",
       "        text-align: left;\n",
       "    }\n",
       "\n",
       "    .dataframe tbody tr th {\n",
       "        vertical-align: top;\n",
       "    }\n",
       "</style>\n",
       "<table border=\"1\" class=\"dataframe\">\n",
       "  <thead>\n",
       "    <tr style=\"text-align: right;\">\n",
       "      <th></th>\n",
       "      <th>cust_avail_v3</th>\n",
       "      <th>css_count</th>\n",
       "      <th>css_score</th>\n",
       "      <th>orders</th>\n",
       "      <th>calls_per_day</th>\n",
       "      <th>new_sales</th>\n",
       "      <th>new_conv</th>\n",
       "    </tr>\n",
       "  </thead>\n",
       "  <tbody>\n",
       "    <tr>\n",
       "      <th>0</th>\n",
       "      <td>0.982314</td>\n",
       "      <td>3.132929</td>\n",
       "      <td>9.596516</td>\n",
       "      <td>1.810967</td>\n",
       "      <td>21.332267</td>\n",
       "      <td>927.295091</td>\n",
       "      <td>0.097898</td>\n",
       "    </tr>\n",
       "    <tr>\n",
       "      <th>1</th>\n",
       "      <td>0.901979</td>\n",
       "      <td>0.803462</td>\n",
       "      <td>1.776163</td>\n",
       "      <td>4.372358</td>\n",
       "      <td>32.059763</td>\n",
       "      <td>595.682988</td>\n",
       "      <td>0.083649</td>\n",
       "    </tr>\n",
       "    <tr>\n",
       "      <th>2</th>\n",
       "      <td>0.954744</td>\n",
       "      <td>5.232132</td>\n",
       "      <td>3.317613</td>\n",
       "      <td>5.809159</td>\n",
       "      <td>29.049377</td>\n",
       "      <td>67.878894</td>\n",
       "      <td>0.082953</td>\n",
       "    </tr>\n",
       "    <tr>\n",
       "      <th>3</th>\n",
       "      <td>0.867813</td>\n",
       "      <td>1.106139</td>\n",
       "      <td>2.506306</td>\n",
       "      <td>2.852789</td>\n",
       "      <td>39.115556</td>\n",
       "      <td>249.052944</td>\n",
       "      <td>0.205916</td>\n",
       "    </tr>\n",
       "    <tr>\n",
       "      <th>4</th>\n",
       "      <td>1.023537</td>\n",
       "      <td>5.513686</td>\n",
       "      <td>3.192747</td>\n",
       "      <td>1.581001</td>\n",
       "      <td>27.408561</td>\n",
       "      <td>821.252063</td>\n",
       "      <td>0.137357</td>\n",
       "    </tr>\n",
       "  </tbody>\n",
       "</table>\n",
       "</div>"
      ],
      "text/plain": [
       "   cust_avail_v3  css_count  css_score    orders  calls_per_day   new_sales  \\\n",
       "0       0.982314   3.132929   9.596516  1.810967      21.332267  927.295091   \n",
       "1       0.901979   0.803462   1.776163  4.372358      32.059763  595.682988   \n",
       "2       0.954744   5.232132   3.317613  5.809159      29.049377   67.878894   \n",
       "3       0.867813   1.106139   2.506306  2.852789      39.115556  249.052944   \n",
       "4       1.023537   5.513686   3.192747  1.581001      27.408561  821.252063   \n",
       "\n",
       "   new_conv  \n",
       "0  0.097898  \n",
       "1  0.083649  \n",
       "2  0.082953  \n",
       "3  0.205916  \n",
       "4  0.137357  "
      ]
     },
     "execution_count": 6,
     "metadata": {},
     "output_type": "execute_result"
    }
   ],
   "source": [
    "df2['css_count'] = generate_random(df.css_count)\n",
    "df2['css_score'] = generate_random(df.css_score)\n",
    "df2['orders'] = generate_random(df.orders)\n",
    "df2['calls_per_day'] = generate_random(df.calls_per_day)\n",
    "df2['new_sales'] = generate_random(df.new_sales)\n",
    "df2['new_conv'] = generate_random(df.new_conv)\n",
    "\n",
    "df2.head()"
   ]
  },
  {
   "cell_type": "markdown",
   "metadata": {},
   "source": [
    "Not too bad huh? Some columns look a bit funky because they probably aren't supposed to have so many decimal points. We can probably fix that with a quick function though."
   ]
  },
  {
   "cell_type": "code",
   "execution_count": 7,
   "metadata": {},
   "outputs": [],
   "source": [
    "df2 = df2.round({'css_score':2, 'new_sales':2, 'orders':0,\n",
    "                 'calls_per_day':0, 'css_count':0, 'cust_avail_v3':4,\n",
    "                 'new_conv':4})"
   ]
  },
  {
   "cell_type": "markdown",
   "metadata": {},
   "source": [
    "I should probably also convert the `css_score` column to an integer based column since that's what the dirty data looked like."
   ]
  },
  {
   "cell_type": "code",
   "execution_count": 8,
   "metadata": {},
   "outputs": [],
   "source": [
    "df2['css_count'] = pd.to_numeric(df.css_count)"
   ]
  },
  {
   "cell_type": "markdown",
   "metadata": {},
   "source": [
    "What does the dataframe look like now? Well still a bit weird but definitely more logical."
   ]
  },
  {
   "cell_type": "code",
   "execution_count": 9,
   "metadata": {},
   "outputs": [
    {
     "data": {
      "text/html": [
       "<div>\n",
       "<style>\n",
       "    .dataframe thead tr:only-child th {\n",
       "        text-align: right;\n",
       "    }\n",
       "\n",
       "    .dataframe thead th {\n",
       "        text-align: left;\n",
       "    }\n",
       "\n",
       "    .dataframe tbody tr th {\n",
       "        vertical-align: top;\n",
       "    }\n",
       "</style>\n",
       "<table border=\"1\" class=\"dataframe\">\n",
       "  <thead>\n",
       "    <tr style=\"text-align: right;\">\n",
       "      <th></th>\n",
       "      <th>cust_avail_v3</th>\n",
       "      <th>css_count</th>\n",
       "      <th>css_score</th>\n",
       "      <th>orders</th>\n",
       "      <th>calls_per_day</th>\n",
       "      <th>new_sales</th>\n",
       "      <th>new_conv</th>\n",
       "    </tr>\n",
       "  </thead>\n",
       "  <tbody>\n",
       "    <tr>\n",
       "      <th>0</th>\n",
       "      <td>0.9823</td>\n",
       "      <td>2</td>\n",
       "      <td>9.60</td>\n",
       "      <td>2.0</td>\n",
       "      <td>21.0</td>\n",
       "      <td>927.30</td>\n",
       "      <td>0.0979</td>\n",
       "    </tr>\n",
       "    <tr>\n",
       "      <th>1</th>\n",
       "      <td>0.9020</td>\n",
       "      <td>1</td>\n",
       "      <td>1.78</td>\n",
       "      <td>4.0</td>\n",
       "      <td>32.0</td>\n",
       "      <td>595.68</td>\n",
       "      <td>0.0836</td>\n",
       "    </tr>\n",
       "    <tr>\n",
       "      <th>2</th>\n",
       "      <td>0.9547</td>\n",
       "      <td>1</td>\n",
       "      <td>3.32</td>\n",
       "      <td>6.0</td>\n",
       "      <td>29.0</td>\n",
       "      <td>67.88</td>\n",
       "      <td>0.0830</td>\n",
       "    </tr>\n",
       "    <tr>\n",
       "      <th>3</th>\n",
       "      <td>0.8678</td>\n",
       "      <td>2</td>\n",
       "      <td>2.51</td>\n",
       "      <td>3.0</td>\n",
       "      <td>39.0</td>\n",
       "      <td>249.05</td>\n",
       "      <td>0.2059</td>\n",
       "    </tr>\n",
       "    <tr>\n",
       "      <th>4</th>\n",
       "      <td>1.0235</td>\n",
       "      <td>4</td>\n",
       "      <td>3.19</td>\n",
       "      <td>2.0</td>\n",
       "      <td>27.0</td>\n",
       "      <td>821.25</td>\n",
       "      <td>0.1374</td>\n",
       "    </tr>\n",
       "  </tbody>\n",
       "</table>\n",
       "</div>"
      ],
      "text/plain": [
       "   cust_avail_v3  css_count  css_score  orders  calls_per_day  new_sales  \\\n",
       "0         0.9823          2       9.60     2.0           21.0     927.30   \n",
       "1         0.9020          1       1.78     4.0           32.0     595.68   \n",
       "2         0.9547          1       3.32     6.0           29.0      67.88   \n",
       "3         0.8678          2       2.51     3.0           39.0     249.05   \n",
       "4         1.0235          4       3.19     2.0           27.0     821.25   \n",
       "\n",
       "   new_conv  \n",
       "0    0.0979  \n",
       "1    0.0836  \n",
       "2    0.0830  \n",
       "3    0.2059  \n",
       "4    0.1374  "
      ]
     },
     "execution_count": 9,
     "metadata": {},
     "output_type": "execute_result"
    }
   ],
   "source": [
    "df2.head()"
   ]
  },
  {
   "cell_type": "markdown",
   "metadata": {},
   "source": [
    "We have a few columns that are left but we probably don't need to worry about randomizing the dates. If GoDaddy wants to sue me on stolen dates data, go ahead."
   ]
  },
  {
   "cell_type": "code",
   "execution_count": 10,
   "metadata": {},
   "outputs": [],
   "source": [
    "df2['date'] = df.date"
   ]
  },
  {
   "cell_type": "markdown",
   "metadata": {},
   "source": [
    "Next we can probably randomize total_sales by adding a random number to the new_sales column. We can find this random number by calculating all of differences and then randomizing that array."
   ]
  },
  {
   "cell_type": "code",
   "execution_count": 11,
   "metadata": {
    "scrolled": true
   },
   "outputs": [
    {
     "data": {
      "text/plain": [
       "array([ 338.38245776,   18.34334569,  194.13670608,  479.08367853,\n",
       "         61.02003058,  529.56583815,  184.67913192,  182.50563238,\n",
       "        305.72418498,  317.42295898,   15.67350906,  291.69652747,\n",
       "        322.14377353,  437.38112208,  264.21456786,  343.48748749,\n",
       "        332.61043922,  312.0299232 ,  272.72229887])"
      ]
     },
     "execution_count": 11,
     "metadata": {},
     "output_type": "execute_result"
    }
   ],
   "source": [
    "total_differences = df.sales - df.new_sales # create a series of all of the differences\n",
    "\n",
    "# apply the same function i created to this series to create random differences\n",
    "random_differences = generate_random(total_differences)\n",
    "random_differences"
   ]
  },
  {
   "cell_type": "markdown",
   "metadata": {},
   "source": [
    "Looks kinda cool, now let's add it to the `new_sales` column of the new random dataframe and then create the `sales` column."
   ]
  },
  {
   "cell_type": "code",
   "execution_count": 12,
   "metadata": {
    "scrolled": false
   },
   "outputs": [
    {
     "data": {
      "text/html": [
       "<div>\n",
       "<style>\n",
       "    .dataframe thead tr:only-child th {\n",
       "        text-align: right;\n",
       "    }\n",
       "\n",
       "    .dataframe thead th {\n",
       "        text-align: left;\n",
       "    }\n",
       "\n",
       "    .dataframe tbody tr th {\n",
       "        vertical-align: top;\n",
       "    }\n",
       "</style>\n",
       "<table border=\"1\" class=\"dataframe\">\n",
       "  <thead>\n",
       "    <tr style=\"text-align: right;\">\n",
       "      <th></th>\n",
       "      <th>cust_avail_v3</th>\n",
       "      <th>css_count</th>\n",
       "      <th>css_score</th>\n",
       "      <th>orders</th>\n",
       "      <th>calls_per_day</th>\n",
       "      <th>new_sales</th>\n",
       "      <th>new_conv</th>\n",
       "      <th>date</th>\n",
       "      <th>sales</th>\n",
       "    </tr>\n",
       "  </thead>\n",
       "  <tbody>\n",
       "    <tr>\n",
       "      <th>0</th>\n",
       "      <td>0.9823</td>\n",
       "      <td>2</td>\n",
       "      <td>9.60</td>\n",
       "      <td>2.0</td>\n",
       "      <td>21.0</td>\n",
       "      <td>927.30</td>\n",
       "      <td>0.0979</td>\n",
       "      <td>2018-04-02</td>\n",
       "      <td>1265.68</td>\n",
       "    </tr>\n",
       "    <tr>\n",
       "      <th>1</th>\n",
       "      <td>0.9020</td>\n",
       "      <td>1</td>\n",
       "      <td>1.78</td>\n",
       "      <td>4.0</td>\n",
       "      <td>32.0</td>\n",
       "      <td>595.68</td>\n",
       "      <td>0.0836</td>\n",
       "      <td>2018-04-03</td>\n",
       "      <td>614.02</td>\n",
       "    </tr>\n",
       "    <tr>\n",
       "      <th>2</th>\n",
       "      <td>0.9547</td>\n",
       "      <td>1</td>\n",
       "      <td>3.32</td>\n",
       "      <td>6.0</td>\n",
       "      <td>29.0</td>\n",
       "      <td>67.88</td>\n",
       "      <td>0.0830</td>\n",
       "      <td>2018-04-04</td>\n",
       "      <td>262.02</td>\n",
       "    </tr>\n",
       "    <tr>\n",
       "      <th>3</th>\n",
       "      <td>0.8678</td>\n",
       "      <td>2</td>\n",
       "      <td>2.51</td>\n",
       "      <td>3.0</td>\n",
       "      <td>39.0</td>\n",
       "      <td>249.05</td>\n",
       "      <td>0.2059</td>\n",
       "      <td>2018-04-05</td>\n",
       "      <td>728.13</td>\n",
       "    </tr>\n",
       "    <tr>\n",
       "      <th>4</th>\n",
       "      <td>1.0235</td>\n",
       "      <td>4</td>\n",
       "      <td>3.19</td>\n",
       "      <td>2.0</td>\n",
       "      <td>27.0</td>\n",
       "      <td>821.25</td>\n",
       "      <td>0.1374</td>\n",
       "      <td>2018-04-09</td>\n",
       "      <td>882.27</td>\n",
       "    </tr>\n",
       "  </tbody>\n",
       "</table>\n",
       "</div>"
      ],
      "text/plain": [
       "   cust_avail_v3  css_count  css_score  orders  calls_per_day  new_sales  \\\n",
       "0         0.9823          2       9.60     2.0           21.0     927.30   \n",
       "1         0.9020          1       1.78     4.0           32.0     595.68   \n",
       "2         0.9547          1       3.32     6.0           29.0      67.88   \n",
       "3         0.8678          2       2.51     3.0           39.0     249.05   \n",
       "4         1.0235          4       3.19     2.0           27.0     821.25   \n",
       "\n",
       "   new_conv        date    sales  \n",
       "0    0.0979  2018-04-02  1265.68  \n",
       "1    0.0836  2018-04-03   614.02  \n",
       "2    0.0830  2018-04-04   262.02  \n",
       "3    0.2059  2018-04-05   728.13  \n",
       "4    0.1374  2018-04-09   882.27  "
      ]
     },
     "execution_count": 12,
     "metadata": {},
     "output_type": "execute_result"
    }
   ],
   "source": [
    "df2['sales'] = df2.new_sales + random_differences\n",
    "df2 = df2.round({'sales':2})\n",
    "df2.head()"
   ]
  },
  {
   "cell_type": "markdown",
   "metadata": {},
   "source": [
    "Almost done! The last column that we need to create doesn't need any randomization because it's actually already been determined. We just need to look at the `sales` and `new_sales` columns. We then divide the `sales` column by the `new_sales` column and we get percentage new sales."
   ]
  },
  {
   "cell_type": "code",
   "execution_count": 13,
   "metadata": {},
   "outputs": [
    {
     "data": {
      "text/html": [
       "<div>\n",
       "<style>\n",
       "    .dataframe thead tr:only-child th {\n",
       "        text-align: right;\n",
       "    }\n",
       "\n",
       "    .dataframe thead th {\n",
       "        text-align: left;\n",
       "    }\n",
       "\n",
       "    .dataframe tbody tr th {\n",
       "        vertical-align: top;\n",
       "    }\n",
       "</style>\n",
       "<table border=\"1\" class=\"dataframe\">\n",
       "  <thead>\n",
       "    <tr style=\"text-align: right;\">\n",
       "      <th></th>\n",
       "      <th>cust_avail_v3</th>\n",
       "      <th>css_count</th>\n",
       "      <th>css_score</th>\n",
       "      <th>orders</th>\n",
       "      <th>calls_per_day</th>\n",
       "      <th>new_sales</th>\n",
       "      <th>new_conv</th>\n",
       "      <th>date</th>\n",
       "      <th>sales</th>\n",
       "      <th>new_sales_perc</th>\n",
       "    </tr>\n",
       "  </thead>\n",
       "  <tbody>\n",
       "    <tr>\n",
       "      <th>0</th>\n",
       "      <td>0.9823</td>\n",
       "      <td>2</td>\n",
       "      <td>9.60</td>\n",
       "      <td>2.0</td>\n",
       "      <td>21.0</td>\n",
       "      <td>927.30</td>\n",
       "      <td>0.0979</td>\n",
       "      <td>2018-04-02</td>\n",
       "      <td>1265.68</td>\n",
       "      <td>0.732650</td>\n",
       "    </tr>\n",
       "    <tr>\n",
       "      <th>1</th>\n",
       "      <td>0.9020</td>\n",
       "      <td>1</td>\n",
       "      <td>1.78</td>\n",
       "      <td>4.0</td>\n",
       "      <td>32.0</td>\n",
       "      <td>595.68</td>\n",
       "      <td>0.0836</td>\n",
       "      <td>2018-04-03</td>\n",
       "      <td>614.02</td>\n",
       "      <td>0.970131</td>\n",
       "    </tr>\n",
       "    <tr>\n",
       "      <th>2</th>\n",
       "      <td>0.9547</td>\n",
       "      <td>1</td>\n",
       "      <td>3.32</td>\n",
       "      <td>6.0</td>\n",
       "      <td>29.0</td>\n",
       "      <td>67.88</td>\n",
       "      <td>0.0830</td>\n",
       "      <td>2018-04-04</td>\n",
       "      <td>262.02</td>\n",
       "      <td>0.259064</td>\n",
       "    </tr>\n",
       "    <tr>\n",
       "      <th>3</th>\n",
       "      <td>0.8678</td>\n",
       "      <td>2</td>\n",
       "      <td>2.51</td>\n",
       "      <td>3.0</td>\n",
       "      <td>39.0</td>\n",
       "      <td>249.05</td>\n",
       "      <td>0.2059</td>\n",
       "      <td>2018-04-05</td>\n",
       "      <td>728.13</td>\n",
       "      <td>0.342041</td>\n",
       "    </tr>\n",
       "    <tr>\n",
       "      <th>4</th>\n",
       "      <td>1.0235</td>\n",
       "      <td>4</td>\n",
       "      <td>3.19</td>\n",
       "      <td>2.0</td>\n",
       "      <td>27.0</td>\n",
       "      <td>821.25</td>\n",
       "      <td>0.1374</td>\n",
       "      <td>2018-04-09</td>\n",
       "      <td>882.27</td>\n",
       "      <td>0.930837</td>\n",
       "    </tr>\n",
       "  </tbody>\n",
       "</table>\n",
       "</div>"
      ],
      "text/plain": [
       "   cust_avail_v3  css_count  css_score  orders  calls_per_day  new_sales  \\\n",
       "0         0.9823          2       9.60     2.0           21.0     927.30   \n",
       "1         0.9020          1       1.78     4.0           32.0     595.68   \n",
       "2         0.9547          1       3.32     6.0           29.0      67.88   \n",
       "3         0.8678          2       2.51     3.0           39.0     249.05   \n",
       "4         1.0235          4       3.19     2.0           27.0     821.25   \n",
       "\n",
       "   new_conv        date    sales  new_sales_perc  \n",
       "0    0.0979  2018-04-02  1265.68        0.732650  \n",
       "1    0.0836  2018-04-03   614.02        0.970131  \n",
       "2    0.0830  2018-04-04   262.02        0.259064  \n",
       "3    0.2059  2018-04-05   728.13        0.342041  \n",
       "4    0.1374  2018-04-09   882.27        0.930837  "
      ]
     },
     "execution_count": 13,
     "metadata": {},
     "output_type": "execute_result"
    }
   ],
   "source": [
    "df2['new_sales_perc'] = df2.new_sales.divide(df2.sales)\n",
    "df2.head()"
   ]
  },
  {
   "cell_type": "markdown",
   "metadata": {},
   "source": [
    "I can then restrict this column to 4 decimal places:"
   ]
  },
  {
   "cell_type": "code",
   "execution_count": 14,
   "metadata": {},
   "outputs": [
    {
     "data": {
      "text/html": [
       "<div>\n",
       "<style>\n",
       "    .dataframe thead tr:only-child th {\n",
       "        text-align: right;\n",
       "    }\n",
       "\n",
       "    .dataframe thead th {\n",
       "        text-align: left;\n",
       "    }\n",
       "\n",
       "    .dataframe tbody tr th {\n",
       "        vertical-align: top;\n",
       "    }\n",
       "</style>\n",
       "<table border=\"1\" class=\"dataframe\">\n",
       "  <thead>\n",
       "    <tr style=\"text-align: right;\">\n",
       "      <th></th>\n",
       "      <th>cust_avail_v3</th>\n",
       "      <th>css_count</th>\n",
       "      <th>css_score</th>\n",
       "      <th>orders</th>\n",
       "      <th>calls_per_day</th>\n",
       "      <th>new_sales</th>\n",
       "      <th>new_conv</th>\n",
       "      <th>date</th>\n",
       "      <th>sales</th>\n",
       "      <th>new_sales_perc</th>\n",
       "    </tr>\n",
       "  </thead>\n",
       "  <tbody>\n",
       "    <tr>\n",
       "      <th>0</th>\n",
       "      <td>0.9823</td>\n",
       "      <td>2</td>\n",
       "      <td>9.60</td>\n",
       "      <td>2.0</td>\n",
       "      <td>21.0</td>\n",
       "      <td>927.30</td>\n",
       "      <td>0.0979</td>\n",
       "      <td>2018-04-02</td>\n",
       "      <td>1265.68</td>\n",
       "      <td>0.7326</td>\n",
       "    </tr>\n",
       "    <tr>\n",
       "      <th>1</th>\n",
       "      <td>0.9020</td>\n",
       "      <td>1</td>\n",
       "      <td>1.78</td>\n",
       "      <td>4.0</td>\n",
       "      <td>32.0</td>\n",
       "      <td>595.68</td>\n",
       "      <td>0.0836</td>\n",
       "      <td>2018-04-03</td>\n",
       "      <td>614.02</td>\n",
       "      <td>0.9701</td>\n",
       "    </tr>\n",
       "    <tr>\n",
       "      <th>2</th>\n",
       "      <td>0.9547</td>\n",
       "      <td>1</td>\n",
       "      <td>3.32</td>\n",
       "      <td>6.0</td>\n",
       "      <td>29.0</td>\n",
       "      <td>67.88</td>\n",
       "      <td>0.0830</td>\n",
       "      <td>2018-04-04</td>\n",
       "      <td>262.02</td>\n",
       "      <td>0.2591</td>\n",
       "    </tr>\n",
       "    <tr>\n",
       "      <th>3</th>\n",
       "      <td>0.8678</td>\n",
       "      <td>2</td>\n",
       "      <td>2.51</td>\n",
       "      <td>3.0</td>\n",
       "      <td>39.0</td>\n",
       "      <td>249.05</td>\n",
       "      <td>0.2059</td>\n",
       "      <td>2018-04-05</td>\n",
       "      <td>728.13</td>\n",
       "      <td>0.3420</td>\n",
       "    </tr>\n",
       "    <tr>\n",
       "      <th>4</th>\n",
       "      <td>1.0235</td>\n",
       "      <td>4</td>\n",
       "      <td>3.19</td>\n",
       "      <td>2.0</td>\n",
       "      <td>27.0</td>\n",
       "      <td>821.25</td>\n",
       "      <td>0.1374</td>\n",
       "      <td>2018-04-09</td>\n",
       "      <td>882.27</td>\n",
       "      <td>0.9308</td>\n",
       "    </tr>\n",
       "  </tbody>\n",
       "</table>\n",
       "</div>"
      ],
      "text/plain": [
       "   cust_avail_v3  css_count  css_score  orders  calls_per_day  new_sales  \\\n",
       "0         0.9823          2       9.60     2.0           21.0     927.30   \n",
       "1         0.9020          1       1.78     4.0           32.0     595.68   \n",
       "2         0.9547          1       3.32     6.0           29.0      67.88   \n",
       "3         0.8678          2       2.51     3.0           39.0     249.05   \n",
       "4         1.0235          4       3.19     2.0           27.0     821.25   \n",
       "\n",
       "   new_conv        date    sales  new_sales_perc  \n",
       "0    0.0979  2018-04-02  1265.68          0.7326  \n",
       "1    0.0836  2018-04-03   614.02          0.9701  \n",
       "2    0.0830  2018-04-04   262.02          0.2591  \n",
       "3    0.2059  2018-04-05   728.13          0.3420  \n",
       "4    0.1374  2018-04-09   882.27          0.9308  "
      ]
     },
     "execution_count": 14,
     "metadata": {},
     "output_type": "execute_result"
    }
   ],
   "source": [
    "df2 = df2.round({'new_sales_perc':4})\n",
    "df2.head()"
   ]
  },
  {
   "cell_type": "markdown",
   "metadata": {},
   "source": [
    "Looks great!\n",
    "\n",
    "There are a few other things that we have to add to the columns so that it looks exactly the same as the previous real data, otherwise when the `april_18.ipynb` notebook is trying to clean the data, some functions won't work.\n",
    "\n",
    "We have to add $ symbols in certain columns and % symbols in the percentage columns. We create a function for this."
   ]
  },
  {
   "cell_type": "code",
   "execution_count": 15,
   "metadata": {},
   "outputs": [],
   "source": [
    "def add_dollar(value):\n",
    "    \"\"\"Add a dollar sign in the front of a given value that is supposed to represent a money sum.\"\"\"\n",
    "    value = '$' + str(value)\n",
    "    return value\n",
    "\n",
    "def make_perc(value):\n",
    "    \"\"\"Convert a value into a percentage.\"\"\"\n",
    "    value = str(value * 100.00) + '%'\n",
    "    return value"
   ]
  },
  {
   "cell_type": "markdown",
   "metadata": {},
   "source": [
    "We can apply these functions using the `.apply()` function in the pandas library. This will render the function vectorized and will prevent me from having to iterate the function over every row."
   ]
  },
  {
   "cell_type": "code",
   "execution_count": 16,
   "metadata": {},
   "outputs": [],
   "source": [
    "df2['new_sales'] = df2.new_sales.apply(add_dollar)\n",
    "df2['sales'] = df2.sales.apply(add_dollar)\n",
    "\n",
    "# now for the percentages\n",
    "df2['cust_avail_v3'] = df2.cust_avail_v3.apply(make_perc)\n",
    "df2['new_conv'] = df2.new_conv.apply(make_perc)\n",
    "df2['new_sales_perc'] = df2.new_sales_perc.apply(make_perc)"
   ]
  },
  {
   "cell_type": "markdown",
   "metadata": {},
   "source": [
    "Now let's take a look at the new data and see if it's formatted the right way:"
   ]
  },
  {
   "cell_type": "code",
   "execution_count": 17,
   "metadata": {},
   "outputs": [
    {
     "data": {
      "text/html": [
       "<div>\n",
       "<style>\n",
       "    .dataframe thead tr:only-child th {\n",
       "        text-align: right;\n",
       "    }\n",
       "\n",
       "    .dataframe thead th {\n",
       "        text-align: left;\n",
       "    }\n",
       "\n",
       "    .dataframe tbody tr th {\n",
       "        vertical-align: top;\n",
       "    }\n",
       "</style>\n",
       "<table border=\"1\" class=\"dataframe\">\n",
       "  <thead>\n",
       "    <tr style=\"text-align: right;\">\n",
       "      <th></th>\n",
       "      <th>cust_avail_v3</th>\n",
       "      <th>css_count</th>\n",
       "      <th>css_score</th>\n",
       "      <th>orders</th>\n",
       "      <th>calls_per_day</th>\n",
       "      <th>new_sales</th>\n",
       "      <th>new_conv</th>\n",
       "      <th>date</th>\n",
       "      <th>sales</th>\n",
       "      <th>new_sales_perc</th>\n",
       "    </tr>\n",
       "  </thead>\n",
       "  <tbody>\n",
       "    <tr>\n",
       "      <th>0</th>\n",
       "      <td>98.22999999999999%</td>\n",
       "      <td>2</td>\n",
       "      <td>9.60</td>\n",
       "      <td>2.0</td>\n",
       "      <td>21.0</td>\n",
       "      <td>$927.3</td>\n",
       "      <td>9.790000000000001%</td>\n",
       "      <td>2018-04-02</td>\n",
       "      <td>$1265.68</td>\n",
       "      <td>73.26%</td>\n",
       "    </tr>\n",
       "    <tr>\n",
       "      <th>1</th>\n",
       "      <td>90.2%</td>\n",
       "      <td>1</td>\n",
       "      <td>1.78</td>\n",
       "      <td>4.0</td>\n",
       "      <td>32.0</td>\n",
       "      <td>$595.68</td>\n",
       "      <td>8.36%</td>\n",
       "      <td>2018-04-03</td>\n",
       "      <td>$614.02</td>\n",
       "      <td>97.00999999999999%</td>\n",
       "    </tr>\n",
       "    <tr>\n",
       "      <th>2</th>\n",
       "      <td>95.47%</td>\n",
       "      <td>1</td>\n",
       "      <td>3.32</td>\n",
       "      <td>6.0</td>\n",
       "      <td>29.0</td>\n",
       "      <td>$67.88</td>\n",
       "      <td>8.3%</td>\n",
       "      <td>2018-04-04</td>\n",
       "      <td>$262.02</td>\n",
       "      <td>25.91%</td>\n",
       "    </tr>\n",
       "    <tr>\n",
       "      <th>3</th>\n",
       "      <td>86.78%</td>\n",
       "      <td>2</td>\n",
       "      <td>2.51</td>\n",
       "      <td>3.0</td>\n",
       "      <td>39.0</td>\n",
       "      <td>$249.05</td>\n",
       "      <td>20.59%</td>\n",
       "      <td>2018-04-05</td>\n",
       "      <td>$728.13</td>\n",
       "      <td>34.2%</td>\n",
       "    </tr>\n",
       "    <tr>\n",
       "      <th>4</th>\n",
       "      <td>102.35000000000001%</td>\n",
       "      <td>4</td>\n",
       "      <td>3.19</td>\n",
       "      <td>2.0</td>\n",
       "      <td>27.0</td>\n",
       "      <td>$821.25</td>\n",
       "      <td>13.74%</td>\n",
       "      <td>2018-04-09</td>\n",
       "      <td>$882.27</td>\n",
       "      <td>93.08%</td>\n",
       "    </tr>\n",
       "  </tbody>\n",
       "</table>\n",
       "</div>"
      ],
      "text/plain": [
       "         cust_avail_v3  css_count  css_score  orders  calls_per_day new_sales  \\\n",
       "0   98.22999999999999%          2       9.60     2.0           21.0    $927.3   \n",
       "1                90.2%          1       1.78     4.0           32.0   $595.68   \n",
       "2               95.47%          1       3.32     6.0           29.0    $67.88   \n",
       "3               86.78%          2       2.51     3.0           39.0   $249.05   \n",
       "4  102.35000000000001%          4       3.19     2.0           27.0   $821.25   \n",
       "\n",
       "             new_conv        date     sales      new_sales_perc  \n",
       "0  9.790000000000001%  2018-04-02  $1265.68              73.26%  \n",
       "1               8.36%  2018-04-03   $614.02  97.00999999999999%  \n",
       "2                8.3%  2018-04-04   $262.02              25.91%  \n",
       "3              20.59%  2018-04-05   $728.13               34.2%  \n",
       "4              13.74%  2018-04-09   $882.27              93.08%  "
      ]
     },
     "execution_count": 17,
     "metadata": {},
     "output_type": "execute_result"
    }
   ],
   "source": [
    "df2.head()"
   ]
  },
  {
   "cell_type": "markdown",
   "metadata": {},
   "source": [
    "Those weird super long decimals don't matter so I am going to leave them. It shouldn't affect the cleaning notebook.\n",
    "I can now export the data to `april_random.csv`.\n",
    "\n",
    "I do want to reorder the columns before I export the data."
   ]
  },
  {
   "cell_type": "code",
   "execution_count": 18,
   "metadata": {},
   "outputs": [
    {
     "data": {
      "text/html": [
       "<div>\n",
       "<style>\n",
       "    .dataframe thead tr:only-child th {\n",
       "        text-align: right;\n",
       "    }\n",
       "\n",
       "    .dataframe thead th {\n",
       "        text-align: left;\n",
       "    }\n",
       "\n",
       "    .dataframe tbody tr th {\n",
       "        vertical-align: top;\n",
       "    }\n",
       "</style>\n",
       "<table border=\"1\" class=\"dataframe\">\n",
       "  <thead>\n",
       "    <tr style=\"text-align: right;\">\n",
       "      <th></th>\n",
       "      <th>date</th>\n",
       "      <th>cust_avail_v3</th>\n",
       "      <th>css_count</th>\n",
       "      <th>css_score</th>\n",
       "      <th>orders</th>\n",
       "      <th>new_conv</th>\n",
       "      <th>new_sales</th>\n",
       "      <th>new_sales_perc</th>\n",
       "      <th>sales</th>\n",
       "      <th>calls_per_day</th>\n",
       "    </tr>\n",
       "  </thead>\n",
       "  <tbody>\n",
       "    <tr>\n",
       "      <th>0</th>\n",
       "      <td>2018-04-02</td>\n",
       "      <td>98.22999999999999%</td>\n",
       "      <td>2</td>\n",
       "      <td>9.6</td>\n",
       "      <td>2.0</td>\n",
       "      <td>9.790000000000001%</td>\n",
       "      <td>$927.3</td>\n",
       "      <td>73.26%</td>\n",
       "      <td>$1265.68</td>\n",
       "      <td>21.0</td>\n",
       "    </tr>\n",
       "  </tbody>\n",
       "</table>\n",
       "</div>"
      ],
      "text/plain": [
       "         date       cust_avail_v3  css_count  css_score  orders  \\\n",
       "0  2018-04-02  98.22999999999999%          2        9.6     2.0   \n",
       "\n",
       "             new_conv new_sales new_sales_perc     sales  calls_per_day  \n",
       "0  9.790000000000001%    $927.3         73.26%  $1265.68           21.0  "
      ]
     },
     "execution_count": 18,
     "metadata": {},
     "output_type": "execute_result"
    }
   ],
   "source": [
    "df2 = df2[['date', 'cust_avail_v3', 'css_count', 'css_score', 'orders', 'new_conv', 'new_sales', 'new_sales_perc',\n",
    "          'sales', 'calls_per_day']]\n",
    "df2.head(1)"
   ]
  },
  {
   "cell_type": "markdown",
   "metadata": {},
   "source": [
    "I am finally ready to export the data"
   ]
  },
  {
   "cell_type": "code",
   "execution_count": 19,
   "metadata": {},
   "outputs": [],
   "source": [
    "df2.to_csv('random_data.csv')"
   ]
  }
 ],
 "metadata": {
  "kernelspec": {
   "display_name": "Python 3",
   "language": "python",
   "name": "python3"
  },
  "language_info": {
   "codemirror_mode": {
    "name": "ipython",
    "version": 3
   },
   "file_extension": ".py",
   "mimetype": "text/x-python",
   "name": "python",
   "nbconvert_exporter": "python",
   "pygments_lexer": "ipython3",
   "version": "3.6.1"
  }
 },
 "nbformat": 4,
 "nbformat_minor": 2
}
