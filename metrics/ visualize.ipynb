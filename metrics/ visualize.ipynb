{
 "cells": [
  {
   "cell_type": "markdown",
   "metadata": {},
   "source": [
    "# Visualize\n",
    "#### By Julien Dhouti"
   ]
  },
  {
   "cell_type": "code",
   "execution_count": 1,
   "metadata": {},
   "outputs": [
    {
     "data": {
      "text/html": [
       "<script>requirejs.config({paths: { 'plotly': ['https://cdn.plot.ly/plotly-latest.min']},});if(!window.Plotly) {{require(['plotly'],function(plotly) {window.Plotly=plotly;});}}</script>"
      ],
      "text/vnd.plotly.v1+html": [
       "<script>requirejs.config({paths: { 'plotly': ['https://cdn.plot.ly/plotly-latest.min']},});if(!window.Plotly) {{require(['plotly'],function(plotly) {window.Plotly=plotly;});}}</script>"
      ]
     },
     "metadata": {},
     "output_type": "display_data"
    }
   ],
   "source": [
    "# First we import the necessary libraries\n",
    "import pandas as pd\n",
    "import plotly.plotly as py\n",
    "import plotly.tools as tls\n",
    "import plotly.graph_objs as go\n",
    "from plotly.offline import init_notebook_mode, iplot\n",
    "import numpy as np\n",
    "\n",
    "# turn off uploads for graphs in this notebook:\n",
    "init_notebook_mode(connected=True)"
   ]
  },
  {
   "cell_type": "code",
   "execution_count": 2,
   "metadata": {},
   "outputs": [],
   "source": [
    "df = pd.read_csv('data/clean_data.csv')\n",
    "df = df.drop(['Unnamed: 0'], axis=1)"
   ]
  },
  {
   "cell_type": "markdown",
   "metadata": {},
   "source": [
    "Now that the data has been cleaned and stripped of any missing values, we can start visualizing it using the plotly library"
   ]
  },
  {
   "cell_type": "code",
   "execution_count": 3,
   "metadata": {},
   "outputs": [
    {
     "data": {
      "application/vnd.plotly.v1+json": {
       "data": [
        {
         "line": {
          "color": "rgb(244, 66, 149)"
         },
         "mode": "markers+lines",
         "name": "Total Sales",
         "type": "scatter",
         "x": [
          "2018-04-02",
          "2018-04-03",
          "2018-04-04",
          "2018-04-05",
          "2018-04-09",
          "2018-04-10",
          "2018-04-11",
          "2018-04-12",
          "2018-04-13",
          "2018-04-16",
          "2018-04-17",
          "2018-04-18",
          "2018-04-19",
          "2018-04-20",
          "2018-04-23",
          "2018-04-24",
          "2018-04-25",
          "2018-04-27",
          "2018-04-30"
         ],
         "y": [
          285.24,
          290.32,
          342.69,
          137.02,
          1073.32,
          712.06,
          51.31,
          1112.69,
          700.11,
          815.81,
          939.81,
          671.69,
          681.73,
          234.95,
          395.16,
          147.69,
          190.62,
          179.88,
          507.58
         ]
        },
        {
         "line": {
          "color": "rgb(77, 244, 65)"
         },
         "mode": "markers+lines",
         "name": "New Sales",
         "type": "scatter",
         "x": [
          "2018-04-02",
          "2018-04-03",
          "2018-04-04",
          "2018-04-05",
          "2018-04-09",
          "2018-04-10",
          "2018-04-11",
          "2018-04-12",
          "2018-04-13",
          "2018-04-16",
          "2018-04-17",
          "2018-04-18",
          "2018-04-19",
          "2018-04-20",
          "2018-04-23",
          "2018-04-24",
          "2018-04-25",
          "2018-04-27",
          "2018-04-30"
         ],
         "y": [
          271.25,
          290.32,
          325.75,
          137.02,
          646.93,
          395.34,
          51.31,
          1047.2,
          477.6,
          785.47,
          656.37,
          122.45,
          425.7,
          234.95,
          122.1,
          116.46,
          124.72,
          0,
          496.59
         ]
        }
       ],
       "layout": {
        "title": "Total Sales for April",
        "xaxis": {
         "title": "Days"
        },
        "yaxis": {
         "title": "Sales ($)"
        }
       }
      },
      "text/html": [
       "<div id=\"0d85252c-9a88-4c28-8dc2-15698596c198\" style=\"height: 525px; width: 100%;\" class=\"plotly-graph-div\"></div><script type=\"text/javascript\">require([\"plotly\"], function(Plotly) { window.PLOTLYENV=window.PLOTLYENV || {};window.PLOTLYENV.BASE_URL=\"https://plot.ly\";Plotly.newPlot(\"0d85252c-9a88-4c28-8dc2-15698596c198\", [{\"type\": \"scatter\", \"x\": [\"2018-04-02\", \"2018-04-03\", \"2018-04-04\", \"2018-04-05\", \"2018-04-09\", \"2018-04-10\", \"2018-04-11\", \"2018-04-12\", \"2018-04-13\", \"2018-04-16\", \"2018-04-17\", \"2018-04-18\", \"2018-04-19\", \"2018-04-20\", \"2018-04-23\", \"2018-04-24\", \"2018-04-25\", \"2018-04-27\", \"2018-04-30\"], \"y\": [285.24, 290.32, 342.69, 137.02, 1073.32, 712.06, 51.31, 1112.69, 700.11, 815.81, 939.81, 671.69, 681.73, 234.95, 395.16, 147.69, 190.62, 179.88, 507.58], \"mode\": \"markers+lines\", \"name\": \"Total Sales\", \"line\": {\"color\": \"rgb(244, 66, 149)\"}}, {\"type\": \"scatter\", \"x\": [\"2018-04-02\", \"2018-04-03\", \"2018-04-04\", \"2018-04-05\", \"2018-04-09\", \"2018-04-10\", \"2018-04-11\", \"2018-04-12\", \"2018-04-13\", \"2018-04-16\", \"2018-04-17\", \"2018-04-18\", \"2018-04-19\", \"2018-04-20\", \"2018-04-23\", \"2018-04-24\", \"2018-04-25\", \"2018-04-27\", \"2018-04-30\"], \"y\": [271.25, 290.32, 325.75, 137.02, 646.93, 395.34, 51.31, 1047.2, 477.6, 785.47, 656.37, 122.45, 425.7, 234.95, 122.1, 116.46, 124.72, 0.0, 496.59], \"mode\": \"markers+lines\", \"name\": \"New Sales\", \"line\": {\"color\": \"rgb(77, 244, 65)\"}}], {\"title\": \"Total Sales for April\", \"xaxis\": {\"title\": \"Days\"}, \"yaxis\": {\"title\": \"Sales ($)\"}}, {\"showLink\": true, \"linkText\": \"Export to plot.ly\"})});</script>"
      ],
      "text/vnd.plotly.v1+html": [
       "<div id=\"0d85252c-9a88-4c28-8dc2-15698596c198\" style=\"height: 525px; width: 100%;\" class=\"plotly-graph-div\"></div><script type=\"text/javascript\">require([\"plotly\"], function(Plotly) { window.PLOTLYENV=window.PLOTLYENV || {};window.PLOTLYENV.BASE_URL=\"https://plot.ly\";Plotly.newPlot(\"0d85252c-9a88-4c28-8dc2-15698596c198\", [{\"type\": \"scatter\", \"x\": [\"2018-04-02\", \"2018-04-03\", \"2018-04-04\", \"2018-04-05\", \"2018-04-09\", \"2018-04-10\", \"2018-04-11\", \"2018-04-12\", \"2018-04-13\", \"2018-04-16\", \"2018-04-17\", \"2018-04-18\", \"2018-04-19\", \"2018-04-20\", \"2018-04-23\", \"2018-04-24\", \"2018-04-25\", \"2018-04-27\", \"2018-04-30\"], \"y\": [285.24, 290.32, 342.69, 137.02, 1073.32, 712.06, 51.31, 1112.69, 700.11, 815.81, 939.81, 671.69, 681.73, 234.95, 395.16, 147.69, 190.62, 179.88, 507.58], \"mode\": \"markers+lines\", \"name\": \"Total Sales\", \"line\": {\"color\": \"rgb(244, 66, 149)\"}}, {\"type\": \"scatter\", \"x\": [\"2018-04-02\", \"2018-04-03\", \"2018-04-04\", \"2018-04-05\", \"2018-04-09\", \"2018-04-10\", \"2018-04-11\", \"2018-04-12\", \"2018-04-13\", \"2018-04-16\", \"2018-04-17\", \"2018-04-18\", \"2018-04-19\", \"2018-04-20\", \"2018-04-23\", \"2018-04-24\", \"2018-04-25\", \"2018-04-27\", \"2018-04-30\"], \"y\": [271.25, 290.32, 325.75, 137.02, 646.93, 395.34, 51.31, 1047.2, 477.6, 785.47, 656.37, 122.45, 425.7, 234.95, 122.1, 116.46, 124.72, 0.0, 496.59], \"mode\": \"markers+lines\", \"name\": \"New Sales\", \"line\": {\"color\": \"rgb(77, 244, 65)\"}}], {\"title\": \"Total Sales for April\", \"xaxis\": {\"title\": \"Days\"}, \"yaxis\": {\"title\": \"Sales ($)\"}}, {\"showLink\": true, \"linkText\": \"Export to plot.ly\"})});</script>"
      ]
     },
     "metadata": {},
     "output_type": "display_data"
    }
   ],
   "source": [
    "# We start by creating a basic line graph to show how I did in sales this month\n",
    "x = df.date\n",
    "y1 = df.sales\n",
    "y2 = df.new_sales\n",
    "\n",
    "# Create the trace\n",
    "total_sales = go.Scatter(\n",
    "    x=x,\n",
    "    y=y1,\n",
    "    mode='markers+lines',\n",
    "    name='Total Sales',\n",
    "    line=dict(\n",
    "        color='rgb(244, 66, 149)'\n",
    "    )\n",
    ")\n",
    "\n",
    "new_sales = go.Scatter(\n",
    "    x=x,\n",
    "    y=y2,\n",
    "    mode='markers+lines',\n",
    "    name='New Sales',\n",
    "    line=dict(\n",
    "        color='rgb(77, 244, 65)'\n",
    "    )\n",
    ")\n",
    "# Create the data from the traces\n",
    "data = go.Data([total_sales, new_sales])\n",
    "\n",
    "# Create the layout object\n",
    "layout = go.Layout(\n",
    "    title='Total Sales for April',\n",
    "    xaxis=go.XAxis(title='Days'),\n",
    "    yaxis=go.YAxis(title='Sales ($)')\n",
    ")\n",
    "\n",
    "# Put it all together and let's check it out\n",
    "figure = go.Figure(data=data, layout=layout)\n",
    "iplot(figure)"
   ]
  },
  {
   "cell_type": "markdown",
   "metadata": {},
   "source": [
    "Interesting, from the graph we can see that I performed better the first half of the month and then slowly performed worse as we approached the end.\n",
    "\n",
    "One thing that I wanted to find out is whether the number of sales I get a day is correlated with the number of calls that I receive. To answer this, I created a basic scatter plot."
   ]
  },
  {
   "cell_type": "code",
   "execution_count": 4,
   "metadata": {},
   "outputs": [
    {
     "data": {
      "application/vnd.plotly.v1+json": {
       "data": [
        {
         "marker": {
          "color": "rgb(130, 175, 255)",
          "line": {
           "width": 1
          },
          "size": 12
         },
         "mode": "markers",
         "text": [
          "2018-04-02",
          "2018-04-03",
          "2018-04-04",
          "2018-04-05",
          "2018-04-09",
          "2018-04-10",
          "2018-04-11",
          "2018-04-12",
          "2018-04-13",
          "2018-04-16",
          "2018-04-17",
          "2018-04-18",
          "2018-04-19",
          "2018-04-20",
          "2018-04-23",
          "2018-04-24",
          "2018-04-25",
          "2018-04-27",
          "2018-04-30"
         ],
         "type": "scatter",
         "x": [
          271.25,
          290.32,
          325.75,
          137.02,
          646.93,
          395.34,
          51.31,
          1047.2,
          477.6,
          785.47,
          656.37,
          122.45,
          425.7,
          234.95,
          122.1,
          116.46,
          124.72,
          0,
          496.59
         ],
         "y": [
          27,
          24,
          21,
          36,
          40,
          24,
          27,
          31,
          30,
          35,
          37,
          29,
          39,
          28,
          30,
          33,
          25,
          40,
          33
         ]
        }
       ],
       "layout": {
        "title": "New Sales vs. Number of Calls",
        "xaxis": {
         "title": "New Sales ($)"
        },
        "yaxis": {
         "title": "Number of Calls"
        }
       }
      },
      "text/html": [
       "<div id=\"99b25139-39d1-4861-bd63-b546d10cb0ae\" style=\"height: 525px; width: 100%;\" class=\"plotly-graph-div\"></div><script type=\"text/javascript\">require([\"plotly\"], function(Plotly) { window.PLOTLYENV=window.PLOTLYENV || {};window.PLOTLYENV.BASE_URL=\"https://plot.ly\";Plotly.newPlot(\"99b25139-39d1-4861-bd63-b546d10cb0ae\", [{\"type\": \"scatter\", \"x\": [271.25, 290.32, 325.75, 137.02, 646.93, 395.34, 51.31, 1047.2, 477.6, 785.47, 656.37, 122.45, 425.7, 234.95, 122.1, 116.46, 124.72, 0.0, 496.59], \"y\": [27.0, 24.0, 21.0, 36.0, 40.0, 24.0, 27.0, 31.0, 30.0, 35.0, 37.0, 29.0, 39.0, 28.0, 30.0, 33.0, 25.0, 40.0, 33.0], \"mode\": \"markers\", \"text\": [\"2018-04-02\", \"2018-04-03\", \"2018-04-04\", \"2018-04-05\", \"2018-04-09\", \"2018-04-10\", \"2018-04-11\", \"2018-04-12\", \"2018-04-13\", \"2018-04-16\", \"2018-04-17\", \"2018-04-18\", \"2018-04-19\", \"2018-04-20\", \"2018-04-23\", \"2018-04-24\", \"2018-04-25\", \"2018-04-27\", \"2018-04-30\"], \"marker\": {\"color\": \"rgb(130, 175, 255)\", \"size\": 12, \"line\": {\"width\": 1}}}], {\"title\": \"New Sales vs. Number of Calls\", \"xaxis\": {\"title\": \"New Sales ($)\"}, \"yaxis\": {\"title\": \"Number of Calls\"}}, {\"showLink\": true, \"linkText\": \"Export to plot.ly\"})});</script>"
      ],
      "text/vnd.plotly.v1+html": [
       "<div id=\"99b25139-39d1-4861-bd63-b546d10cb0ae\" style=\"height: 525px; width: 100%;\" class=\"plotly-graph-div\"></div><script type=\"text/javascript\">require([\"plotly\"], function(Plotly) { window.PLOTLYENV=window.PLOTLYENV || {};window.PLOTLYENV.BASE_URL=\"https://plot.ly\";Plotly.newPlot(\"99b25139-39d1-4861-bd63-b546d10cb0ae\", [{\"type\": \"scatter\", \"x\": [271.25, 290.32, 325.75, 137.02, 646.93, 395.34, 51.31, 1047.2, 477.6, 785.47, 656.37, 122.45, 425.7, 234.95, 122.1, 116.46, 124.72, 0.0, 496.59], \"y\": [27.0, 24.0, 21.0, 36.0, 40.0, 24.0, 27.0, 31.0, 30.0, 35.0, 37.0, 29.0, 39.0, 28.0, 30.0, 33.0, 25.0, 40.0, 33.0], \"mode\": \"markers\", \"text\": [\"2018-04-02\", \"2018-04-03\", \"2018-04-04\", \"2018-04-05\", \"2018-04-09\", \"2018-04-10\", \"2018-04-11\", \"2018-04-12\", \"2018-04-13\", \"2018-04-16\", \"2018-04-17\", \"2018-04-18\", \"2018-04-19\", \"2018-04-20\", \"2018-04-23\", \"2018-04-24\", \"2018-04-25\", \"2018-04-27\", \"2018-04-30\"], \"marker\": {\"color\": \"rgb(130, 175, 255)\", \"size\": 12, \"line\": {\"width\": 1}}}], {\"title\": \"New Sales vs. Number of Calls\", \"xaxis\": {\"title\": \"New Sales ($)\"}, \"yaxis\": {\"title\": \"Number of Calls\"}}, {\"showLink\": true, \"linkText\": \"Export to plot.ly\"})});</script>"
      ]
     },
     "metadata": {},
     "output_type": "display_data"
    }
   ],
   "source": [
    "x = df.new_sales\n",
    "y = df.calls_per_day\n",
    "\n",
    "# Create the traces\n",
    "main = go.Scatter(\n",
    "    x=x,\n",
    "    y=y,\n",
    "    mode='markers',\n",
    "    text=df.date,\n",
    "    marker=dict(\n",
    "        color='rgb(130, 175, 255)',\n",
    "        size=12,\n",
    "        line=dict(\n",
    "            width=1\n",
    "        )\n",
    "    )\n",
    ")\n",
    "\n",
    "# create the data\n",
    "data = go.Data([main])\n",
    "\n",
    "# create the layout\n",
    "layout = go.Layout(\n",
    "    title='New Sales vs. Number of Calls',\n",
    "    xaxis=go.XAxis(title='New Sales ($)'),\n",
    "    yaxis=go.YAxis(title='Number of Calls')\n",
    ")\n",
    "\n",
    "# finish the graph\n",
    "figure = go.Figure(data=data, layout=layout)\n",
    "iplot(figure)"
   ]
  },
  {
   "cell_type": "markdown",
   "metadata": {},
   "source": [
    "There doesn't seem to be any correlation from the graph. Perhaps I should wait until I have more data.\n",
    "I could still find the correlation coefficient to get the exact value however."
   ]
  },
  {
   "cell_type": "code",
   "execution_count": 8,
   "metadata": {},
   "outputs": [
    {
     "data": {
      "text/plain": [
       "array([[ 1.        ,  0.22895739],\n",
       "       [ 0.22895739,  1.        ]])"
      ]
     },
     "execution_count": 8,
     "metadata": {},
     "output_type": "execute_result"
    }
   ],
   "source": [
    "np.corrcoef(df.new_sales, df.calls_per_day)"
   ]
  },
  {
   "cell_type": "markdown",
   "metadata": {},
   "source": [
    "Yikes, there's no correlation at all: 0.229"
   ]
  },
  {
   "cell_type": "markdown",
   "metadata": {},
   "source": [
    "Another graph that would be interesting is comparing 3 variables which would require a 3d scatter plot. The 3 variables that I want to compare are customer availability, number of orders, and the amount of new sales. This would allow me to see if by increasing the availability, everything else increases with it."
   ]
  },
  {
   "cell_type": "code",
   "execution_count": 5,
   "metadata": {},
   "outputs": [
    {
     "data": {
      "application/vnd.plotly.v1+json": {
       "data": [
        {
         "marker": {
          "color": "rgb(164, 244, 66)",
          "line": {
           "width": 1
          },
          "size": 13
         },
         "mode": "markers",
         "text": [
          "2018-04-02",
          "2018-04-03",
          "2018-04-04",
          "2018-04-05",
          "2018-04-09",
          "2018-04-10",
          "2018-04-11",
          "2018-04-12",
          "2018-04-13",
          "2018-04-16",
          "2018-04-17",
          "2018-04-18",
          "2018-04-19",
          "2018-04-20",
          "2018-04-23",
          "2018-04-24",
          "2018-04-25",
          "2018-04-27",
          "2018-04-30"
         ],
         "type": "scatter3d",
         "x": [
          271.25,
          290.32,
          325.75,
          137.02,
          646.93,
          395.34,
          51.31,
          1047.2,
          477.6,
          785.47,
          656.37,
          122.45,
          425.7,
          234.95,
          122.1,
          116.46,
          124.72,
          0,
          496.59
         ],
         "y": [
          2,
          3,
          5,
          3,
          8,
          5,
          3,
          8,
          9,
          8,
          10,
          9,
          6,
          5,
          2,
          3,
          6,
          1,
          5
         ],
         "z": [
          27,
          24,
          21,
          36,
          40,
          24,
          27,
          31,
          30,
          35,
          37,
          29,
          39,
          28,
          30,
          33,
          25,
          40,
          33
         ]
        }
       ],
       "layout": {
        "margin": {
         "b": 10,
         "l": 10,
         "r": 20,
         "t": 10
        },
        "scene": {
         "xaxis": {
          "title": "New Sales ($)"
         },
         "yaxis": {
          "title": "# of orders"
         },
         "zaxis": {
          "title": "# of calls"
         }
        },
        "title": "New Sales vs. Orders vs. Calls",
        "width": 700
       }
      },
      "text/html": [
       "<div id=\"f14a3820-4a2d-4a55-8894-40e9e86bb7eb\" style=\"height: 525px; width: 700px;\" class=\"plotly-graph-div\"></div><script type=\"text/javascript\">require([\"plotly\"], function(Plotly) { window.PLOTLYENV=window.PLOTLYENV || {};window.PLOTLYENV.BASE_URL=\"https://plot.ly\";Plotly.newPlot(\"f14a3820-4a2d-4a55-8894-40e9e86bb7eb\", [{\"type\": \"scatter3d\", \"x\": [271.25, 290.32, 325.75, 137.02, 646.93, 395.34, 51.31, 1047.2, 477.6, 785.47, 656.37, 122.45, 425.7, 234.95, 122.1, 116.46, 124.72, 0.0, 496.59], \"y\": [2.0, 3.0, 5.0, 3.0, 8.0, 5.0, 3.0, 8.0, 9.0, 8.0, 10.0, 9.0, 6.0, 5.0, 2.0, 3.0, 6.0, 1.0, 5.0], \"z\": [27.0, 24.0, 21.0, 36.0, 40.0, 24.0, 27.0, 31.0, 30.0, 35.0, 37.0, 29.0, 39.0, 28.0, 30.0, 33.0, 25.0, 40.0, 33.0], \"text\": [\"2018-04-02\", \"2018-04-03\", \"2018-04-04\", \"2018-04-05\", \"2018-04-09\", \"2018-04-10\", \"2018-04-11\", \"2018-04-12\", \"2018-04-13\", \"2018-04-16\", \"2018-04-17\", \"2018-04-18\", \"2018-04-19\", \"2018-04-20\", \"2018-04-23\", \"2018-04-24\", \"2018-04-25\", \"2018-04-27\", \"2018-04-30\"], \"mode\": \"markers\", \"marker\": {\"color\": \"rgb(164, 244, 66)\", \"size\": 13, \"line\": {\"width\": 1}}}], {\"scene\": {\"xaxis\": {\"title\": \"New Sales ($)\"}, \"yaxis\": {\"title\": \"# of orders\"}, \"zaxis\": {\"title\": \"# of calls\"}}, \"width\": 700, \"title\": \"New Sales vs. Orders vs. Calls\", \"margin\": {\"r\": 20, \"b\": 10, \"l\": 10, \"t\": 10}}, {\"showLink\": true, \"linkText\": \"Export to plot.ly\"})});</script>"
      ],
      "text/vnd.plotly.v1+html": [
       "<div id=\"f14a3820-4a2d-4a55-8894-40e9e86bb7eb\" style=\"height: 525px; width: 700px;\" class=\"plotly-graph-div\"></div><script type=\"text/javascript\">require([\"plotly\"], function(Plotly) { window.PLOTLYENV=window.PLOTLYENV || {};window.PLOTLYENV.BASE_URL=\"https://plot.ly\";Plotly.newPlot(\"f14a3820-4a2d-4a55-8894-40e9e86bb7eb\", [{\"type\": \"scatter3d\", \"x\": [271.25, 290.32, 325.75, 137.02, 646.93, 395.34, 51.31, 1047.2, 477.6, 785.47, 656.37, 122.45, 425.7, 234.95, 122.1, 116.46, 124.72, 0.0, 496.59], \"y\": [2.0, 3.0, 5.0, 3.0, 8.0, 5.0, 3.0, 8.0, 9.0, 8.0, 10.0, 9.0, 6.0, 5.0, 2.0, 3.0, 6.0, 1.0, 5.0], \"z\": [27.0, 24.0, 21.0, 36.0, 40.0, 24.0, 27.0, 31.0, 30.0, 35.0, 37.0, 29.0, 39.0, 28.0, 30.0, 33.0, 25.0, 40.0, 33.0], \"text\": [\"2018-04-02\", \"2018-04-03\", \"2018-04-04\", \"2018-04-05\", \"2018-04-09\", \"2018-04-10\", \"2018-04-11\", \"2018-04-12\", \"2018-04-13\", \"2018-04-16\", \"2018-04-17\", \"2018-04-18\", \"2018-04-19\", \"2018-04-20\", \"2018-04-23\", \"2018-04-24\", \"2018-04-25\", \"2018-04-27\", \"2018-04-30\"], \"mode\": \"markers\", \"marker\": {\"color\": \"rgb(164, 244, 66)\", \"size\": 13, \"line\": {\"width\": 1}}}], {\"scene\": {\"xaxis\": {\"title\": \"New Sales ($)\"}, \"yaxis\": {\"title\": \"# of orders\"}, \"zaxis\": {\"title\": \"# of calls\"}}, \"width\": 700, \"title\": \"New Sales vs. Orders vs. Calls\", \"margin\": {\"r\": 20, \"b\": 10, \"l\": 10, \"t\": 10}}, {\"showLink\": true, \"linkText\": \"Export to plot.ly\"})});</script>"
      ]
     },
     "metadata": {},
     "output_type": "display_data"
    }
   ],
   "source": [
    "x = df.new_sales\n",
    "y = df.orders\n",
    "z = df.calls_per_day\n",
    "\n",
    "# create the trace\n",
    "main = go.Scatter3d(\n",
    "    x=x,\n",
    "    y=y,\n",
    "    z=z,\n",
    "    text=df.date,\n",
    "    mode='markers',\n",
    "    marker=dict(\n",
    "        color='rgb(164, 244, 66)',\n",
    "        size=13,\n",
    "        line=dict(\n",
    "            width=1\n",
    "        )\n",
    "    )\n",
    ")\n",
    "\n",
    "# create the data\n",
    "data = go.Data([main])\n",
    "\n",
    "# create the layout\n",
    "layout = go.Layout(\n",
    "    scene = dict(\n",
    "        xaxis = dict(title='New Sales ($)'),\n",
    "        yaxis = dict(title='# of orders'),\n",
    "        zaxis = dict(title='# of calls'),\n",
    "    ),\n",
    "    width=700,\n",
    "    title='New Sales vs. Orders vs. Calls',\n",
    "    margin=dict(\n",
    "        r=20, b=10,\n",
    "        l=10, t=10\n",
    "    )\n",
    ")\n",
    "\n",
    "# Create the figure\n",
    "figure = go.Figure(data=data, layout=layout)\n",
    "iplot(figure)"
   ]
  },
  {
   "cell_type": "markdown",
   "metadata": {},
   "source": [
    "It would be interesting to generate a simple line graph will all of the important variables graphed. To do this however, we will need to create a function that can generate graphs for us."
   ]
  },
  {
   "cell_type": "code",
   "execution_count": 6,
   "metadata": {},
   "outputs": [
    {
     "data": {
      "text/plain": [
       "Index(['date', 'cust_avail_v3', 'css_count', 'css_score', 'orders', 'new_conv',\n",
       "       'new_sales', 'new_sales_perc', 'sales', 'calls_per_day'],\n",
       "      dtype='object')"
      ]
     },
     "execution_count": 6,
     "metadata": {},
     "output_type": "execute_result"
    }
   ],
   "source": [
    "df.columns"
   ]
  },
  {
   "cell_type": "code",
   "execution_count": 16,
   "metadata": {},
   "outputs": [],
   "source": [
    "columns  = ['cust_avail_v3', 'css_score', 'orders', 'new_conv', 'new_conv']\n",
    "N = len(columns)\n",
    "colors = ['hsl('+str(h)+',50%'+',50%)' for h in np.linspace(0, 360, N)]\n",
    "data = []\n",
    "\n",
    "for index in range(N):\n",
    "    data.append(\n",
    "        go.Scatter(\n",
    "            y=df[columns[index]],\n",
    "            x=df.date,\n",
    "            text=columns[index],\n",
    "            mode='markers+lines',\n",
    "            yaxis=columns[index],\n",
    "            marker=dict(\n",
    "                color=colors[index]\n",
    "            )\n",
    "        )\n",
    "    )"
   ]
  },
  {
   "cell_type": "code",
   "execution_count": 17,
   "metadata": {},
   "outputs": [
    {
     "data": {
      "application/vnd.plotly.v1+json": {
       "data": [
        {
         "marker": {
          "color": "hsl(0.0,50%,50%)"
         },
         "mode": "markers+lines",
         "text": "cust_avail_v3",
         "type": "scatter",
         "x": [
          "2018-04-02",
          "2018-04-03",
          "2018-04-04",
          "2018-04-05",
          "2018-04-09",
          "2018-04-10",
          "2018-04-11",
          "2018-04-12",
          "2018-04-13",
          "2018-04-16",
          "2018-04-17",
          "2018-04-18",
          "2018-04-19",
          "2018-04-20",
          "2018-04-23",
          "2018-04-24",
          "2018-04-25",
          "2018-04-27",
          "2018-04-30"
         ],
         "y": [
          0.8140999999999999,
          0.8626,
          0.8676,
          0.8856999999999999,
          0.9969,
          1.0105,
          0.954,
          0.9954,
          0.9748,
          1.0358,
          1.0537999999999998,
          1.0557,
          0.9876,
          0.9723,
          0.9831,
          0.9946,
          0.9776,
          0.9847,
          1.0082
         ],
         "yaxis": "cust_avail_v3"
        },
        {
         "marker": {
          "color": "hsl(90.0,50%,50%)"
         },
         "mode": "markers+lines",
         "text": "css_score",
         "type": "scatter",
         "x": [
          "2018-04-02",
          "2018-04-03",
          "2018-04-04",
          "2018-04-05",
          "2018-04-09",
          "2018-04-10",
          "2018-04-11",
          "2018-04-12",
          "2018-04-13",
          "2018-04-16",
          "2018-04-17",
          "2018-04-18",
          "2018-04-19",
          "2018-04-20",
          "2018-04-23",
          "2018-04-24",
          "2018-04-25",
          "2018-04-27",
          "2018-04-30"
         ],
         "y": [
          9.5,
          10,
          10,
          10,
          7.25,
          10,
          0,
          10,
          9.86,
          9.6,
          10,
          9.33,
          10,
          9.75,
          8.75,
          10,
          10,
          3.5,
          0
         ],
         "yaxis": "css_score"
        },
        {
         "marker": {
          "color": "hsl(180.0,50%,50%)"
         },
         "mode": "markers+lines",
         "text": "orders",
         "type": "scatter",
         "x": [
          "2018-04-02",
          "2018-04-03",
          "2018-04-04",
          "2018-04-05",
          "2018-04-09",
          "2018-04-10",
          "2018-04-11",
          "2018-04-12",
          "2018-04-13",
          "2018-04-16",
          "2018-04-17",
          "2018-04-18",
          "2018-04-19",
          "2018-04-20",
          "2018-04-23",
          "2018-04-24",
          "2018-04-25",
          "2018-04-27",
          "2018-04-30"
         ],
         "y": [
          2,
          3,
          5,
          3,
          8,
          5,
          3,
          8,
          9,
          8,
          10,
          9,
          6,
          5,
          2,
          3,
          6,
          1,
          5
         ],
         "yaxis": "orders"
        },
        {
         "marker": {
          "color": "hsl(270.0,50%,50%)"
         },
         "mode": "markers+lines",
         "text": "new_conv",
         "type": "scatter",
         "x": [
          "2018-04-02",
          "2018-04-03",
          "2018-04-04",
          "2018-04-05",
          "2018-04-09",
          "2018-04-10",
          "2018-04-11",
          "2018-04-12",
          "2018-04-13",
          "2018-04-16",
          "2018-04-17",
          "2018-04-18",
          "2018-04-19",
          "2018-04-20",
          "2018-04-23",
          "2018-04-24",
          "2018-04-25",
          "2018-04-27",
          "2018-04-30"
         ],
         "y": [
          0.0333,
          0.1111,
          0.2174,
          0.07690000000000001,
          0.0952,
          0.1923,
          0.0938,
          0.2059,
          0.2121,
          0.1944,
          0.2,
          0.1379,
          0.125,
          0.17859999999999998,
          0.0323,
          0.0606,
          0.1429,
          0,
          0.1081
         ],
         "yaxis": "new_conv"
        },
        {
         "marker": {
          "color": "hsl(360.0,50%,50%)"
         },
         "mode": "markers+lines",
         "text": "new_conv",
         "type": "scatter",
         "x": [
          "2018-04-02",
          "2018-04-03",
          "2018-04-04",
          "2018-04-05",
          "2018-04-09",
          "2018-04-10",
          "2018-04-11",
          "2018-04-12",
          "2018-04-13",
          "2018-04-16",
          "2018-04-17",
          "2018-04-18",
          "2018-04-19",
          "2018-04-20",
          "2018-04-23",
          "2018-04-24",
          "2018-04-25",
          "2018-04-27",
          "2018-04-30"
         ],
         "y": [
          0.0333,
          0.1111,
          0.2174,
          0.07690000000000001,
          0.0952,
          0.1923,
          0.0938,
          0.2059,
          0.2121,
          0.1944,
          0.2,
          0.1379,
          0.125,
          0.17859999999999998,
          0.0323,
          0.0606,
          0.1429,
          0,
          0.1081
         ],
         "yaxis": "new_conv"
        }
       ],
       "layout": {}
      },
      "text/html": [
       "<div id=\"3c5f71f2-1f3b-4bcb-a463-caede234a323\" style=\"height: 525px; width: 100%;\" class=\"plotly-graph-div\"></div><script type=\"text/javascript\">require([\"plotly\"], function(Plotly) { window.PLOTLYENV=window.PLOTLYENV || {};window.PLOTLYENV.BASE_URL=\"https://plot.ly\";Plotly.newPlot(\"3c5f71f2-1f3b-4bcb-a463-caede234a323\", [{\"type\": \"scatter\", \"y\": [0.8140999999999999, 0.8626, 0.8676, 0.8856999999999999, 0.9969, 1.0105, 0.954, 0.9954, 0.9748, 1.0358, 1.0537999999999998, 1.0557, 0.9876, 0.9723, 0.9831, 0.9946, 0.9776, 0.9847, 1.0082], \"x\": [\"2018-04-02\", \"2018-04-03\", \"2018-04-04\", \"2018-04-05\", \"2018-04-09\", \"2018-04-10\", \"2018-04-11\", \"2018-04-12\", \"2018-04-13\", \"2018-04-16\", \"2018-04-17\", \"2018-04-18\", \"2018-04-19\", \"2018-04-20\", \"2018-04-23\", \"2018-04-24\", \"2018-04-25\", \"2018-04-27\", \"2018-04-30\"], \"text\": \"cust_avail_v3\", \"mode\": \"markers+lines\", \"yaxis\": \"cust_avail_v3\", \"marker\": {\"color\": \"hsl(0.0,50%,50%)\"}}, {\"type\": \"scatter\", \"y\": [9.5, 10.0, 10.0, 10.0, 7.25, 10.0, 0.0, 10.0, 9.86, 9.6, 10.0, 9.33, 10.0, 9.75, 8.75, 10.0, 10.0, 3.5, 0.0], \"x\": [\"2018-04-02\", \"2018-04-03\", \"2018-04-04\", \"2018-04-05\", \"2018-04-09\", \"2018-04-10\", \"2018-04-11\", \"2018-04-12\", \"2018-04-13\", \"2018-04-16\", \"2018-04-17\", \"2018-04-18\", \"2018-04-19\", \"2018-04-20\", \"2018-04-23\", \"2018-04-24\", \"2018-04-25\", \"2018-04-27\", \"2018-04-30\"], \"text\": \"css_score\", \"mode\": \"markers+lines\", \"yaxis\": \"css_score\", \"marker\": {\"color\": \"hsl(90.0,50%,50%)\"}}, {\"type\": \"scatter\", \"y\": [2.0, 3.0, 5.0, 3.0, 8.0, 5.0, 3.0, 8.0, 9.0, 8.0, 10.0, 9.0, 6.0, 5.0, 2.0, 3.0, 6.0, 1.0, 5.0], \"x\": [\"2018-04-02\", \"2018-04-03\", \"2018-04-04\", \"2018-04-05\", \"2018-04-09\", \"2018-04-10\", \"2018-04-11\", \"2018-04-12\", \"2018-04-13\", \"2018-04-16\", \"2018-04-17\", \"2018-04-18\", \"2018-04-19\", \"2018-04-20\", \"2018-04-23\", \"2018-04-24\", \"2018-04-25\", \"2018-04-27\", \"2018-04-30\"], \"text\": \"orders\", \"mode\": \"markers+lines\", \"yaxis\": \"orders\", \"marker\": {\"color\": \"hsl(180.0,50%,50%)\"}}, {\"type\": \"scatter\", \"y\": [0.0333, 0.1111, 0.2174, 0.07690000000000001, 0.0952, 0.1923, 0.0938, 0.2059, 0.2121, 0.1944, 0.2, 0.1379, 0.125, 0.17859999999999998, 0.0323, 0.0606, 0.1429, 0.0, 0.1081], \"x\": [\"2018-04-02\", \"2018-04-03\", \"2018-04-04\", \"2018-04-05\", \"2018-04-09\", \"2018-04-10\", \"2018-04-11\", \"2018-04-12\", \"2018-04-13\", \"2018-04-16\", \"2018-04-17\", \"2018-04-18\", \"2018-04-19\", \"2018-04-20\", \"2018-04-23\", \"2018-04-24\", \"2018-04-25\", \"2018-04-27\", \"2018-04-30\"], \"text\": \"new_conv\", \"mode\": \"markers+lines\", \"yaxis\": \"new_conv\", \"marker\": {\"color\": \"hsl(270.0,50%,50%)\"}}, {\"type\": \"scatter\", \"y\": [0.0333, 0.1111, 0.2174, 0.07690000000000001, 0.0952, 0.1923, 0.0938, 0.2059, 0.2121, 0.1944, 0.2, 0.1379, 0.125, 0.17859999999999998, 0.0323, 0.0606, 0.1429, 0.0, 0.1081], \"x\": [\"2018-04-02\", \"2018-04-03\", \"2018-04-04\", \"2018-04-05\", \"2018-04-09\", \"2018-04-10\", \"2018-04-11\", \"2018-04-12\", \"2018-04-13\", \"2018-04-16\", \"2018-04-17\", \"2018-04-18\", \"2018-04-19\", \"2018-04-20\", \"2018-04-23\", \"2018-04-24\", \"2018-04-25\", \"2018-04-27\", \"2018-04-30\"], \"text\": \"new_conv\", \"mode\": \"markers+lines\", \"yaxis\": \"new_conv\", \"marker\": {\"color\": \"hsl(360.0,50%,50%)\"}}], {}, {\"showLink\": true, \"linkText\": \"Export to plot.ly\"})});</script>"
      ],
      "text/vnd.plotly.v1+html": [
       "<div id=\"3c5f71f2-1f3b-4bcb-a463-caede234a323\" style=\"height: 525px; width: 100%;\" class=\"plotly-graph-div\"></div><script type=\"text/javascript\">require([\"plotly\"], function(Plotly) { window.PLOTLYENV=window.PLOTLYENV || {};window.PLOTLYENV.BASE_URL=\"https://plot.ly\";Plotly.newPlot(\"3c5f71f2-1f3b-4bcb-a463-caede234a323\", [{\"type\": \"scatter\", \"y\": [0.8140999999999999, 0.8626, 0.8676, 0.8856999999999999, 0.9969, 1.0105, 0.954, 0.9954, 0.9748, 1.0358, 1.0537999999999998, 1.0557, 0.9876, 0.9723, 0.9831, 0.9946, 0.9776, 0.9847, 1.0082], \"x\": [\"2018-04-02\", \"2018-04-03\", \"2018-04-04\", \"2018-04-05\", \"2018-04-09\", \"2018-04-10\", \"2018-04-11\", \"2018-04-12\", \"2018-04-13\", \"2018-04-16\", \"2018-04-17\", \"2018-04-18\", \"2018-04-19\", \"2018-04-20\", \"2018-04-23\", \"2018-04-24\", \"2018-04-25\", \"2018-04-27\", \"2018-04-30\"], \"text\": \"cust_avail_v3\", \"mode\": \"markers+lines\", \"yaxis\": \"cust_avail_v3\", \"marker\": {\"color\": \"hsl(0.0,50%,50%)\"}}, {\"type\": \"scatter\", \"y\": [9.5, 10.0, 10.0, 10.0, 7.25, 10.0, 0.0, 10.0, 9.86, 9.6, 10.0, 9.33, 10.0, 9.75, 8.75, 10.0, 10.0, 3.5, 0.0], \"x\": [\"2018-04-02\", \"2018-04-03\", \"2018-04-04\", \"2018-04-05\", \"2018-04-09\", \"2018-04-10\", \"2018-04-11\", \"2018-04-12\", \"2018-04-13\", \"2018-04-16\", \"2018-04-17\", \"2018-04-18\", \"2018-04-19\", \"2018-04-20\", \"2018-04-23\", \"2018-04-24\", \"2018-04-25\", \"2018-04-27\", \"2018-04-30\"], \"text\": \"css_score\", \"mode\": \"markers+lines\", \"yaxis\": \"css_score\", \"marker\": {\"color\": \"hsl(90.0,50%,50%)\"}}, {\"type\": \"scatter\", \"y\": [2.0, 3.0, 5.0, 3.0, 8.0, 5.0, 3.0, 8.0, 9.0, 8.0, 10.0, 9.0, 6.0, 5.0, 2.0, 3.0, 6.0, 1.0, 5.0], \"x\": [\"2018-04-02\", \"2018-04-03\", \"2018-04-04\", \"2018-04-05\", \"2018-04-09\", \"2018-04-10\", \"2018-04-11\", \"2018-04-12\", \"2018-04-13\", \"2018-04-16\", \"2018-04-17\", \"2018-04-18\", \"2018-04-19\", \"2018-04-20\", \"2018-04-23\", \"2018-04-24\", \"2018-04-25\", \"2018-04-27\", \"2018-04-30\"], \"text\": \"orders\", \"mode\": \"markers+lines\", \"yaxis\": \"orders\", \"marker\": {\"color\": \"hsl(180.0,50%,50%)\"}}, {\"type\": \"scatter\", \"y\": [0.0333, 0.1111, 0.2174, 0.07690000000000001, 0.0952, 0.1923, 0.0938, 0.2059, 0.2121, 0.1944, 0.2, 0.1379, 0.125, 0.17859999999999998, 0.0323, 0.0606, 0.1429, 0.0, 0.1081], \"x\": [\"2018-04-02\", \"2018-04-03\", \"2018-04-04\", \"2018-04-05\", \"2018-04-09\", \"2018-04-10\", \"2018-04-11\", \"2018-04-12\", \"2018-04-13\", \"2018-04-16\", \"2018-04-17\", \"2018-04-18\", \"2018-04-19\", \"2018-04-20\", \"2018-04-23\", \"2018-04-24\", \"2018-04-25\", \"2018-04-27\", \"2018-04-30\"], \"text\": \"new_conv\", \"mode\": \"markers+lines\", \"yaxis\": \"new_conv\", \"marker\": {\"color\": \"hsl(270.0,50%,50%)\"}}, {\"type\": \"scatter\", \"y\": [0.0333, 0.1111, 0.2174, 0.07690000000000001, 0.0952, 0.1923, 0.0938, 0.2059, 0.2121, 0.1944, 0.2, 0.1379, 0.125, 0.17859999999999998, 0.0323, 0.0606, 0.1429, 0.0, 0.1081], \"x\": [\"2018-04-02\", \"2018-04-03\", \"2018-04-04\", \"2018-04-05\", \"2018-04-09\", \"2018-04-10\", \"2018-04-11\", \"2018-04-12\", \"2018-04-13\", \"2018-04-16\", \"2018-04-17\", \"2018-04-18\", \"2018-04-19\", \"2018-04-20\", \"2018-04-23\", \"2018-04-24\", \"2018-04-25\", \"2018-04-27\", \"2018-04-30\"], \"text\": \"new_conv\", \"mode\": \"markers+lines\", \"yaxis\": \"new_conv\", \"marker\": {\"color\": \"hsl(360.0,50%,50%)\"}}], {}, {\"showLink\": true, \"linkText\": \"Export to plot.ly\"})});</script>"
      ]
     },
     "metadata": {},
     "output_type": "display_data"
    }
   ],
   "source": [
    "figure = go.Figure(data=data, layout=go.Layout())\n",
    "iplot(figure)"
   ]
  },
  {
   "cell_type": "code",
   "execution_count": null,
   "metadata": {},
   "outputs": [],
   "source": []
  }
 ],
 "metadata": {
  "kernelspec": {
   "display_name": "Python 3",
   "language": "python",
   "name": "python3"
  },
  "language_info": {
   "codemirror_mode": {
    "name": "ipython",
    "version": 3
   },
   "file_extension": ".py",
   "mimetype": "text/x-python",
   "name": "python",
   "nbconvert_exporter": "python",
   "pygments_lexer": "ipython3",
   "version": "3.6.1"
  }
 },
 "nbformat": 4,
 "nbformat_minor": 2
}
