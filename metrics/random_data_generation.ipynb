{
 "cells": [
  {
   "cell_type": "markdown",
   "metadata": {},
   "source": [
    "# Random Data Generation\n",
    "#### By Julien Dhouti\n",
    "GoDaddy told me I couldn't release any of my work data :( so I had to generate random data from the work data. This is the notebook that does so."
   ]
  },
  {
   "cell_type": "code",
   "execution_count": 1,
   "metadata": {},
   "outputs": [],
   "source": [
    "import pandas as pd\n",
    "import numpy as np"
   ]
  },
  {
   "cell_type": "code",
   "execution_count": 2,
   "metadata": {},
   "outputs": [],
   "source": [
    "df = pd.read_csv('data/clean_data.csv')\n",
    "df = df.drop(['Unnamed: 0'], axis=1)   # I don't care for the first column that was imported"
   ]
  },
  {
   "cell_type": "markdown",
   "metadata": {},
   "source": [
    "I start randomly generating the data using the handy numpy library.<br />\n",
    "Here in this section, I generate random customer availability based on the already given avaibility percentages."
   ]
  },
  {
   "cell_type": "code",
   "execution_count": 3,
   "metadata": {},
   "outputs": [
    {
     "data": {
      "text/plain": [
       "array([ 0.84789413,  0.93332949,  0.88785679,  0.88805097,  0.88787775,\n",
       "        0.86995898,  0.94509068,  0.9766714 ,  1.00799917,  0.8940723 ,\n",
       "        0.90486815,  0.97232378,  0.86972765,  0.83354523,  0.89412036,\n",
       "        0.82985928,  1.03506816,  0.82306602,  0.92414826])"
      ]
     },
     "execution_count": 3,
     "metadata": {},
     "output_type": "execute_result"
    }
   ],
   "source": [
    "min_avail = df.cust_avail_v3.min()\n",
    "max_avail = df.cust_avail_v3.max()\n",
    "size = df.cust_avail_v3.size\n",
    "\n",
    "cust_avail_v3 = np.random.uniform(min_avail, max_avail, size)\n",
    "cust_avail_v3"
   ]
  },
  {
   "cell_type": "markdown",
   "metadata": {},
   "source": [
    "Now that I have created random data fo the cust_avail_v3 column, I can go ahead and create the new dataframe and apply that data to it."
   ]
  },
  {
   "cell_type": "code",
   "execution_count": 4,
   "metadata": {},
   "outputs": [
    {
     "data": {
      "text/html": [
       "<div>\n",
       "<style>\n",
       "    .dataframe thead tr:only-child th {\n",
       "        text-align: right;\n",
       "    }\n",
       "\n",
       "    .dataframe thead th {\n",
       "        text-align: left;\n",
       "    }\n",
       "\n",
       "    .dataframe tbody tr th {\n",
       "        vertical-align: top;\n",
       "    }\n",
       "</style>\n",
       "<table border=\"1\" class=\"dataframe\">\n",
       "  <thead>\n",
       "    <tr style=\"text-align: right;\">\n",
       "      <th></th>\n",
       "      <th>cust_avail_v3</th>\n",
       "    </tr>\n",
       "  </thead>\n",
       "  <tbody>\n",
       "    <tr>\n",
       "      <th>0</th>\n",
       "      <td>0.847894</td>\n",
       "    </tr>\n",
       "    <tr>\n",
       "      <th>1</th>\n",
       "      <td>0.933329</td>\n",
       "    </tr>\n",
       "    <tr>\n",
       "      <th>2</th>\n",
       "      <td>0.887857</td>\n",
       "    </tr>\n",
       "    <tr>\n",
       "      <th>3</th>\n",
       "      <td>0.888051</td>\n",
       "    </tr>\n",
       "    <tr>\n",
       "      <th>4</th>\n",
       "      <td>0.887878</td>\n",
       "    </tr>\n",
       "  </tbody>\n",
       "</table>\n",
       "</div>"
      ],
      "text/plain": [
       "   cust_avail_v3\n",
       "0       0.847894\n",
       "1       0.933329\n",
       "2       0.887857\n",
       "3       0.888051\n",
       "4       0.887878"
      ]
     },
     "execution_count": 4,
     "metadata": {},
     "output_type": "execute_result"
    }
   ],
   "source": [
    "df2 = pd.DataFrame()   # create a new dataframe object\n",
    "df2['cust_avail_v3'] = cust_avail_v3   # apply the random column to the new dataframe\n",
    "df2.head()"
   ]
  },
  {
   "cell_type": "markdown",
   "metadata": {},
   "source": [
    "This can get tedious so I should probably create a function that can do this for any column that is not a dependent variable."
   ]
  },
  {
   "cell_type": "code",
   "execution_count": 5,
   "metadata": {},
   "outputs": [],
   "source": [
    "# create the function\n",
    "def generate_random(column):\n",
    "    \"\"\"The parameter is going to be a series. The function will do the rest.\"\"\"\n",
    "    col_max = column.max()  # get the max from the column\n",
    "    col_min = column.min()  # get the min from the column\n",
    "    size = column.size      # the size will be the same for all columns but I do this just in case\n",
    "    \n",
    "    d_type = column.dtype   # get the type of the column so that I can apply the right random function to it\n",
    "    \n",
    "    random_column = np.random.uniform(col_min, col_max, size)\n",
    "        \n",
    "    return random_column"
   ]
  },
  {
   "cell_type": "markdown",
   "metadata": {},
   "source": [
    "Now I can take this function for a test drive by applying it to the columns `css_count`, `css_score`, `orders`, `calls_per_day`, `new_sales`, and `new_conv`."
   ]
  },
  {
   "cell_type": "code",
   "execution_count": 6,
   "metadata": {},
   "outputs": [
    {
     "data": {
      "text/html": [
       "<div>\n",
       "<style>\n",
       "    .dataframe thead tr:only-child th {\n",
       "        text-align: right;\n",
       "    }\n",
       "\n",
       "    .dataframe thead th {\n",
       "        text-align: left;\n",
       "    }\n",
       "\n",
       "    .dataframe tbody tr th {\n",
       "        vertical-align: top;\n",
       "    }\n",
       "</style>\n",
       "<table border=\"1\" class=\"dataframe\">\n",
       "  <thead>\n",
       "    <tr style=\"text-align: right;\">\n",
       "      <th></th>\n",
       "      <th>cust_avail_v3</th>\n",
       "      <th>css_count</th>\n",
       "      <th>css_score</th>\n",
       "      <th>orders</th>\n",
       "      <th>calls_per_day</th>\n",
       "      <th>new_sales</th>\n",
       "      <th>new_conv</th>\n",
       "    </tr>\n",
       "  </thead>\n",
       "  <tbody>\n",
       "    <tr>\n",
       "      <th>0</th>\n",
       "      <td>0.847894</td>\n",
       "      <td>3.568448</td>\n",
       "      <td>3.391978</td>\n",
       "      <td>9.117080</td>\n",
       "      <td>32.282608</td>\n",
       "      <td>697.163707</td>\n",
       "      <td>0.015936</td>\n",
       "    </tr>\n",
       "    <tr>\n",
       "      <th>1</th>\n",
       "      <td>0.933329</td>\n",
       "      <td>5.244309</td>\n",
       "      <td>0.193842</td>\n",
       "      <td>2.561375</td>\n",
       "      <td>22.548710</td>\n",
       "      <td>704.840896</td>\n",
       "      <td>0.193567</td>\n",
       "    </tr>\n",
       "    <tr>\n",
       "      <th>2</th>\n",
       "      <td>0.887857</td>\n",
       "      <td>3.078791</td>\n",
       "      <td>3.084555</td>\n",
       "      <td>5.985653</td>\n",
       "      <td>36.402410</td>\n",
       "      <td>214.463666</td>\n",
       "      <td>0.162255</td>\n",
       "    </tr>\n",
       "    <tr>\n",
       "      <th>3</th>\n",
       "      <td>0.888051</td>\n",
       "      <td>4.241505</td>\n",
       "      <td>2.391848</td>\n",
       "      <td>4.007344</td>\n",
       "      <td>34.727137</td>\n",
       "      <td>281.225777</td>\n",
       "      <td>0.134914</td>\n",
       "    </tr>\n",
       "    <tr>\n",
       "      <th>4</th>\n",
       "      <td>0.887878</td>\n",
       "      <td>3.350470</td>\n",
       "      <td>3.642247</td>\n",
       "      <td>7.790307</td>\n",
       "      <td>35.388316</td>\n",
       "      <td>86.924910</td>\n",
       "      <td>0.044531</td>\n",
       "    </tr>\n",
       "  </tbody>\n",
       "</table>\n",
       "</div>"
      ],
      "text/plain": [
       "   cust_avail_v3  css_count  css_score    orders  calls_per_day   new_sales  \\\n",
       "0       0.847894   3.568448   3.391978  9.117080      32.282608  697.163707   \n",
       "1       0.933329   5.244309   0.193842  2.561375      22.548710  704.840896   \n",
       "2       0.887857   3.078791   3.084555  5.985653      36.402410  214.463666   \n",
       "3       0.888051   4.241505   2.391848  4.007344      34.727137  281.225777   \n",
       "4       0.887878   3.350470   3.642247  7.790307      35.388316   86.924910   \n",
       "\n",
       "   new_conv  \n",
       "0  0.015936  \n",
       "1  0.193567  \n",
       "2  0.162255  \n",
       "3  0.134914  \n",
       "4  0.044531  "
      ]
     },
     "execution_count": 6,
     "metadata": {},
     "output_type": "execute_result"
    }
   ],
   "source": [
    "df2['css_count'] = generate_random(df.css_count)\n",
    "df2['css_score'] = generate_random(df.css_score)\n",
    "df2['orders'] = generate_random(df.orders)\n",
    "df2['calls_per_day'] = generate_random(df.calls_per_day)\n",
    "df2['new_sales'] = generate_random(df.new_sales)\n",
    "df2['new_conv'] = generate_random(df.new_conv)\n",
    "\n",
    "df2.head()"
   ]
  },
  {
   "cell_type": "markdown",
   "metadata": {},
   "source": [
    "Not too bad huh? Some columns look a bit funky because they probably aren't supposed to have so many decimal points. I can probably fix that with a quick function though."
   ]
  },
  {
   "cell_type": "code",
   "execution_count": 7,
   "metadata": {},
   "outputs": [],
   "source": [
    "df2 = df2.round({'css_score':2, 'new_sales':2, 'orders':0,\n",
    "                 'calls_per_day':0, 'css_count':0, 'cust_avail_v3':4,\n",
    "                 'new_conv':4})"
   ]
  },
  {
   "cell_type": "markdown",
   "metadata": {},
   "source": [
    "I should probably also convert the `css_score` column to an integer based column since that's what the dirty data looked like."
   ]
  },
  {
   "cell_type": "code",
   "execution_count": 8,
   "metadata": {},
   "outputs": [],
   "source": [
    "df2['css_count'] = pd.to_numeric(df.css_count)"
   ]
  },
  {
   "cell_type": "markdown",
   "metadata": {},
   "source": [
    "What does the dataframe look like now? Well still a bit weird but definitely more logical."
   ]
  },
  {
   "cell_type": "code",
   "execution_count": 9,
   "metadata": {},
   "outputs": [
    {
     "data": {
      "text/html": [
       "<div>\n",
       "<style>\n",
       "    .dataframe thead tr:only-child th {\n",
       "        text-align: right;\n",
       "    }\n",
       "\n",
       "    .dataframe thead th {\n",
       "        text-align: left;\n",
       "    }\n",
       "\n",
       "    .dataframe tbody tr th {\n",
       "        vertical-align: top;\n",
       "    }\n",
       "</style>\n",
       "<table border=\"1\" class=\"dataframe\">\n",
       "  <thead>\n",
       "    <tr style=\"text-align: right;\">\n",
       "      <th></th>\n",
       "      <th>cust_avail_v3</th>\n",
       "      <th>css_count</th>\n",
       "      <th>css_score</th>\n",
       "      <th>orders</th>\n",
       "      <th>calls_per_day</th>\n",
       "      <th>new_sales</th>\n",
       "      <th>new_conv</th>\n",
       "    </tr>\n",
       "  </thead>\n",
       "  <tbody>\n",
       "    <tr>\n",
       "      <th>0</th>\n",
       "      <td>0.8479</td>\n",
       "      <td>2</td>\n",
       "      <td>3.39</td>\n",
       "      <td>9.0</td>\n",
       "      <td>32.0</td>\n",
       "      <td>697.16</td>\n",
       "      <td>0.0159</td>\n",
       "    </tr>\n",
       "    <tr>\n",
       "      <th>1</th>\n",
       "      <td>0.9333</td>\n",
       "      <td>1</td>\n",
       "      <td>0.19</td>\n",
       "      <td>3.0</td>\n",
       "      <td>23.0</td>\n",
       "      <td>704.84</td>\n",
       "      <td>0.1936</td>\n",
       "    </tr>\n",
       "    <tr>\n",
       "      <th>2</th>\n",
       "      <td>0.8879</td>\n",
       "      <td>1</td>\n",
       "      <td>3.08</td>\n",
       "      <td>6.0</td>\n",
       "      <td>36.0</td>\n",
       "      <td>214.46</td>\n",
       "      <td>0.1623</td>\n",
       "    </tr>\n",
       "    <tr>\n",
       "      <th>3</th>\n",
       "      <td>0.8881</td>\n",
       "      <td>2</td>\n",
       "      <td>2.39</td>\n",
       "      <td>4.0</td>\n",
       "      <td>35.0</td>\n",
       "      <td>281.23</td>\n",
       "      <td>0.1349</td>\n",
       "    </tr>\n",
       "    <tr>\n",
       "      <th>4</th>\n",
       "      <td>0.8879</td>\n",
       "      <td>4</td>\n",
       "      <td>3.64</td>\n",
       "      <td>8.0</td>\n",
       "      <td>35.0</td>\n",
       "      <td>86.92</td>\n",
       "      <td>0.0445</td>\n",
       "    </tr>\n",
       "  </tbody>\n",
       "</table>\n",
       "</div>"
      ],
      "text/plain": [
       "   cust_avail_v3  css_count  css_score  orders  calls_per_day  new_sales  \\\n",
       "0         0.8479          2       3.39     9.0           32.0     697.16   \n",
       "1         0.9333          1       0.19     3.0           23.0     704.84   \n",
       "2         0.8879          1       3.08     6.0           36.0     214.46   \n",
       "3         0.8881          2       2.39     4.0           35.0     281.23   \n",
       "4         0.8879          4       3.64     8.0           35.0      86.92   \n",
       "\n",
       "   new_conv  \n",
       "0    0.0159  \n",
       "1    0.1936  \n",
       "2    0.1623  \n",
       "3    0.1349  \n",
       "4    0.0445  "
      ]
     },
     "execution_count": 9,
     "metadata": {},
     "output_type": "execute_result"
    }
   ],
   "source": [
    "df2.head()"
   ]
  },
  {
   "cell_type": "markdown",
   "metadata": {},
   "source": [
    "I have a few columns that are left but I probably don't need to worry about randomizing the dates. If GoDaddy wants to sue me on stolen dates data, go ahead."
   ]
  },
  {
   "cell_type": "code",
   "execution_count": 10,
   "metadata": {},
   "outputs": [],
   "source": [
    "df2['date'] = df.date"
   ]
  },
  {
   "cell_type": "markdown",
   "metadata": {},
   "source": [
    "Next I can probably randomize total_sales by adding a random number to the new_sales column. I can find this random number by calculating all of differences and then randomizing that array."
   ]
  },
  {
   "cell_type": "code",
   "execution_count": 11,
   "metadata": {
    "scrolled": true
   },
   "outputs": [
    {
     "data": {
      "text/plain": [
       "array([ 252.35455903,   85.69640716,   82.10818321,  537.00481954,\n",
       "        259.9062231 ,  256.36733083,  428.30855711,  285.34667406,\n",
       "        243.47037128,  305.13039731,  535.21402767,  162.49959739,\n",
       "        467.61973452,    1.15896232,  444.14429326,  291.31909667,\n",
       "         59.87214947,  487.03589546,  453.32346662])"
      ]
     },
     "execution_count": 11,
     "metadata": {},
     "output_type": "execute_result"
    }
   ],
   "source": [
    "total_differences = df.sales - df.new_sales # create a series of all of the differences\n",
    "\n",
    "# apply the same function i created to this series to create random differences\n",
    "random_differences = generate_random(total_differences)\n",
    "random_differences"
   ]
  },
  {
   "cell_type": "markdown",
   "metadata": {},
   "source": [
    "Looks kinda cool, now let's add it to the `new_sales` column of the new random dataframe and then create the `sales` column."
   ]
  },
  {
   "cell_type": "code",
   "execution_count": 12,
   "metadata": {
    "scrolled": false
   },
   "outputs": [
    {
     "data": {
      "text/html": [
       "<div>\n",
       "<style>\n",
       "    .dataframe thead tr:only-child th {\n",
       "        text-align: right;\n",
       "    }\n",
       "\n",
       "    .dataframe thead th {\n",
       "        text-align: left;\n",
       "    }\n",
       "\n",
       "    .dataframe tbody tr th {\n",
       "        vertical-align: top;\n",
       "    }\n",
       "</style>\n",
       "<table border=\"1\" class=\"dataframe\">\n",
       "  <thead>\n",
       "    <tr style=\"text-align: right;\">\n",
       "      <th></th>\n",
       "      <th>cust_avail_v3</th>\n",
       "      <th>css_count</th>\n",
       "      <th>css_score</th>\n",
       "      <th>orders</th>\n",
       "      <th>calls_per_day</th>\n",
       "      <th>new_sales</th>\n",
       "      <th>new_conv</th>\n",
       "      <th>date</th>\n",
       "      <th>sales</th>\n",
       "    </tr>\n",
       "  </thead>\n",
       "  <tbody>\n",
       "    <tr>\n",
       "      <th>0</th>\n",
       "      <td>0.8479</td>\n",
       "      <td>2</td>\n",
       "      <td>3.39</td>\n",
       "      <td>9.0</td>\n",
       "      <td>32.0</td>\n",
       "      <td>697.16</td>\n",
       "      <td>0.0159</td>\n",
       "      <td>2018-04-02</td>\n",
       "      <td>949.51</td>\n",
       "    </tr>\n",
       "    <tr>\n",
       "      <th>1</th>\n",
       "      <td>0.9333</td>\n",
       "      <td>1</td>\n",
       "      <td>0.19</td>\n",
       "      <td>3.0</td>\n",
       "      <td>23.0</td>\n",
       "      <td>704.84</td>\n",
       "      <td>0.1936</td>\n",
       "      <td>2018-04-03</td>\n",
       "      <td>790.54</td>\n",
       "    </tr>\n",
       "    <tr>\n",
       "      <th>2</th>\n",
       "      <td>0.8879</td>\n",
       "      <td>1</td>\n",
       "      <td>3.08</td>\n",
       "      <td>6.0</td>\n",
       "      <td>36.0</td>\n",
       "      <td>214.46</td>\n",
       "      <td>0.1623</td>\n",
       "      <td>2018-04-04</td>\n",
       "      <td>296.57</td>\n",
       "    </tr>\n",
       "    <tr>\n",
       "      <th>3</th>\n",
       "      <td>0.8881</td>\n",
       "      <td>2</td>\n",
       "      <td>2.39</td>\n",
       "      <td>4.0</td>\n",
       "      <td>35.0</td>\n",
       "      <td>281.23</td>\n",
       "      <td>0.1349</td>\n",
       "      <td>2018-04-05</td>\n",
       "      <td>818.23</td>\n",
       "    </tr>\n",
       "    <tr>\n",
       "      <th>4</th>\n",
       "      <td>0.8879</td>\n",
       "      <td>4</td>\n",
       "      <td>3.64</td>\n",
       "      <td>8.0</td>\n",
       "      <td>35.0</td>\n",
       "      <td>86.92</td>\n",
       "      <td>0.0445</td>\n",
       "      <td>2018-04-09</td>\n",
       "      <td>346.83</td>\n",
       "    </tr>\n",
       "  </tbody>\n",
       "</table>\n",
       "</div>"
      ],
      "text/plain": [
       "   cust_avail_v3  css_count  css_score  orders  calls_per_day  new_sales  \\\n",
       "0         0.8479          2       3.39     9.0           32.0     697.16   \n",
       "1         0.9333          1       0.19     3.0           23.0     704.84   \n",
       "2         0.8879          1       3.08     6.0           36.0     214.46   \n",
       "3         0.8881          2       2.39     4.0           35.0     281.23   \n",
       "4         0.8879          4       3.64     8.0           35.0      86.92   \n",
       "\n",
       "   new_conv        date   sales  \n",
       "0    0.0159  2018-04-02  949.51  \n",
       "1    0.1936  2018-04-03  790.54  \n",
       "2    0.1623  2018-04-04  296.57  \n",
       "3    0.1349  2018-04-05  818.23  \n",
       "4    0.0445  2018-04-09  346.83  "
      ]
     },
     "execution_count": 12,
     "metadata": {},
     "output_type": "execute_result"
    }
   ],
   "source": [
    "df2['sales'] = df2.new_sales + random_differences\n",
    "df2 = df2.round({'sales':2})\n",
    "df2.head()"
   ]
  },
  {
   "cell_type": "markdown",
   "metadata": {},
   "source": [
    "Almost done! The last column that I need to create doesn't need any randomization because it's actually already been determined. I just need to look at the `sales` and `new_sales` columns. I then divide the `sales` column by the `new_sales` column and I get percentage new sales."
   ]
  },
  {
   "cell_type": "code",
   "execution_count": 13,
   "metadata": {},
   "outputs": [
    {
     "data": {
      "text/html": [
       "<div>\n",
       "<style>\n",
       "    .dataframe thead tr:only-child th {\n",
       "        text-align: right;\n",
       "    }\n",
       "\n",
       "    .dataframe thead th {\n",
       "        text-align: left;\n",
       "    }\n",
       "\n",
       "    .dataframe tbody tr th {\n",
       "        vertical-align: top;\n",
       "    }\n",
       "</style>\n",
       "<table border=\"1\" class=\"dataframe\">\n",
       "  <thead>\n",
       "    <tr style=\"text-align: right;\">\n",
       "      <th></th>\n",
       "      <th>cust_avail_v3</th>\n",
       "      <th>css_count</th>\n",
       "      <th>css_score</th>\n",
       "      <th>orders</th>\n",
       "      <th>calls_per_day</th>\n",
       "      <th>new_sales</th>\n",
       "      <th>new_conv</th>\n",
       "      <th>date</th>\n",
       "      <th>sales</th>\n",
       "      <th>new_sales_perc</th>\n",
       "    </tr>\n",
       "  </thead>\n",
       "  <tbody>\n",
       "    <tr>\n",
       "      <th>0</th>\n",
       "      <td>0.8479</td>\n",
       "      <td>2</td>\n",
       "      <td>3.39</td>\n",
       "      <td>9.0</td>\n",
       "      <td>32.0</td>\n",
       "      <td>697.16</td>\n",
       "      <td>0.0159</td>\n",
       "      <td>2018-04-02</td>\n",
       "      <td>949.51</td>\n",
       "      <td>0.734231</td>\n",
       "    </tr>\n",
       "    <tr>\n",
       "      <th>1</th>\n",
       "      <td>0.9333</td>\n",
       "      <td>1</td>\n",
       "      <td>0.19</td>\n",
       "      <td>3.0</td>\n",
       "      <td>23.0</td>\n",
       "      <td>704.84</td>\n",
       "      <td>0.1936</td>\n",
       "      <td>2018-04-03</td>\n",
       "      <td>790.54</td>\n",
       "      <td>0.891593</td>\n",
       "    </tr>\n",
       "    <tr>\n",
       "      <th>2</th>\n",
       "      <td>0.8879</td>\n",
       "      <td>1</td>\n",
       "      <td>3.08</td>\n",
       "      <td>6.0</td>\n",
       "      <td>36.0</td>\n",
       "      <td>214.46</td>\n",
       "      <td>0.1623</td>\n",
       "      <td>2018-04-04</td>\n",
       "      <td>296.57</td>\n",
       "      <td>0.723135</td>\n",
       "    </tr>\n",
       "    <tr>\n",
       "      <th>3</th>\n",
       "      <td>0.8881</td>\n",
       "      <td>2</td>\n",
       "      <td>2.39</td>\n",
       "      <td>4.0</td>\n",
       "      <td>35.0</td>\n",
       "      <td>281.23</td>\n",
       "      <td>0.1349</td>\n",
       "      <td>2018-04-05</td>\n",
       "      <td>818.23</td>\n",
       "      <td>0.343705</td>\n",
       "    </tr>\n",
       "    <tr>\n",
       "      <th>4</th>\n",
       "      <td>0.8879</td>\n",
       "      <td>4</td>\n",
       "      <td>3.64</td>\n",
       "      <td>8.0</td>\n",
       "      <td>35.0</td>\n",
       "      <td>86.92</td>\n",
       "      <td>0.0445</td>\n",
       "      <td>2018-04-09</td>\n",
       "      <td>346.83</td>\n",
       "      <td>0.250613</td>\n",
       "    </tr>\n",
       "  </tbody>\n",
       "</table>\n",
       "</div>"
      ],
      "text/plain": [
       "   cust_avail_v3  css_count  css_score  orders  calls_per_day  new_sales  \\\n",
       "0         0.8479          2       3.39     9.0           32.0     697.16   \n",
       "1         0.9333          1       0.19     3.0           23.0     704.84   \n",
       "2         0.8879          1       3.08     6.0           36.0     214.46   \n",
       "3         0.8881          2       2.39     4.0           35.0     281.23   \n",
       "4         0.8879          4       3.64     8.0           35.0      86.92   \n",
       "\n",
       "   new_conv        date   sales  new_sales_perc  \n",
       "0    0.0159  2018-04-02  949.51        0.734231  \n",
       "1    0.1936  2018-04-03  790.54        0.891593  \n",
       "2    0.1623  2018-04-04  296.57        0.723135  \n",
       "3    0.1349  2018-04-05  818.23        0.343705  \n",
       "4    0.0445  2018-04-09  346.83        0.250613  "
      ]
     },
     "execution_count": 13,
     "metadata": {},
     "output_type": "execute_result"
    }
   ],
   "source": [
    "df2['new_sales_perc'] = df2.new_sales.divide(df2.sales)\n",
    "df2.head()"
   ]
  },
  {
   "cell_type": "markdown",
   "metadata": {},
   "source": [
    "I can then restrict this column to 4 decimal places:"
   ]
  },
  {
   "cell_type": "code",
   "execution_count": 14,
   "metadata": {},
   "outputs": [
    {
     "data": {
      "text/html": [
       "<div>\n",
       "<style>\n",
       "    .dataframe thead tr:only-child th {\n",
       "        text-align: right;\n",
       "    }\n",
       "\n",
       "    .dataframe thead th {\n",
       "        text-align: left;\n",
       "    }\n",
       "\n",
       "    .dataframe tbody tr th {\n",
       "        vertical-align: top;\n",
       "    }\n",
       "</style>\n",
       "<table border=\"1\" class=\"dataframe\">\n",
       "  <thead>\n",
       "    <tr style=\"text-align: right;\">\n",
       "      <th></th>\n",
       "      <th>cust_avail_v3</th>\n",
       "      <th>css_count</th>\n",
       "      <th>css_score</th>\n",
       "      <th>orders</th>\n",
       "      <th>calls_per_day</th>\n",
       "      <th>new_sales</th>\n",
       "      <th>new_conv</th>\n",
       "      <th>date</th>\n",
       "      <th>sales</th>\n",
       "      <th>new_sales_perc</th>\n",
       "    </tr>\n",
       "  </thead>\n",
       "  <tbody>\n",
       "    <tr>\n",
       "      <th>0</th>\n",
       "      <td>0.8479</td>\n",
       "      <td>2</td>\n",
       "      <td>3.39</td>\n",
       "      <td>9.0</td>\n",
       "      <td>32.0</td>\n",
       "      <td>697.16</td>\n",
       "      <td>0.0159</td>\n",
       "      <td>2018-04-02</td>\n",
       "      <td>949.51</td>\n",
       "      <td>0.7342</td>\n",
       "    </tr>\n",
       "    <tr>\n",
       "      <th>1</th>\n",
       "      <td>0.9333</td>\n",
       "      <td>1</td>\n",
       "      <td>0.19</td>\n",
       "      <td>3.0</td>\n",
       "      <td>23.0</td>\n",
       "      <td>704.84</td>\n",
       "      <td>0.1936</td>\n",
       "      <td>2018-04-03</td>\n",
       "      <td>790.54</td>\n",
       "      <td>0.8916</td>\n",
       "    </tr>\n",
       "    <tr>\n",
       "      <th>2</th>\n",
       "      <td>0.8879</td>\n",
       "      <td>1</td>\n",
       "      <td>3.08</td>\n",
       "      <td>6.0</td>\n",
       "      <td>36.0</td>\n",
       "      <td>214.46</td>\n",
       "      <td>0.1623</td>\n",
       "      <td>2018-04-04</td>\n",
       "      <td>296.57</td>\n",
       "      <td>0.7231</td>\n",
       "    </tr>\n",
       "    <tr>\n",
       "      <th>3</th>\n",
       "      <td>0.8881</td>\n",
       "      <td>2</td>\n",
       "      <td>2.39</td>\n",
       "      <td>4.0</td>\n",
       "      <td>35.0</td>\n",
       "      <td>281.23</td>\n",
       "      <td>0.1349</td>\n",
       "      <td>2018-04-05</td>\n",
       "      <td>818.23</td>\n",
       "      <td>0.3437</td>\n",
       "    </tr>\n",
       "    <tr>\n",
       "      <th>4</th>\n",
       "      <td>0.8879</td>\n",
       "      <td>4</td>\n",
       "      <td>3.64</td>\n",
       "      <td>8.0</td>\n",
       "      <td>35.0</td>\n",
       "      <td>86.92</td>\n",
       "      <td>0.0445</td>\n",
       "      <td>2018-04-09</td>\n",
       "      <td>346.83</td>\n",
       "      <td>0.2506</td>\n",
       "    </tr>\n",
       "  </tbody>\n",
       "</table>\n",
       "</div>"
      ],
      "text/plain": [
       "   cust_avail_v3  css_count  css_score  orders  calls_per_day  new_sales  \\\n",
       "0         0.8479          2       3.39     9.0           32.0     697.16   \n",
       "1         0.9333          1       0.19     3.0           23.0     704.84   \n",
       "2         0.8879          1       3.08     6.0           36.0     214.46   \n",
       "3         0.8881          2       2.39     4.0           35.0     281.23   \n",
       "4         0.8879          4       3.64     8.0           35.0      86.92   \n",
       "\n",
       "   new_conv        date   sales  new_sales_perc  \n",
       "0    0.0159  2018-04-02  949.51          0.7342  \n",
       "1    0.1936  2018-04-03  790.54          0.8916  \n",
       "2    0.1623  2018-04-04  296.57          0.7231  \n",
       "3    0.1349  2018-04-05  818.23          0.3437  \n",
       "4    0.0445  2018-04-09  346.83          0.2506  "
      ]
     },
     "execution_count": 14,
     "metadata": {},
     "output_type": "execute_result"
    }
   ],
   "source": [
    "df2 = df2.round({'new_sales_perc':4})\n",
    "df2.head()"
   ]
  },
  {
   "cell_type": "markdown",
   "metadata": {},
   "source": [
    "Looks great!\n",
    "\n",
    "There are a few other things that I have to add to the columns so that it looks exactly the same as the previous real data, otherwise when the `april_18.ipynb` notebook is trying to clean the data, some functions won't work.\n",
    "\n",
    "I have to add $ symbols in certain columns and % symbols in the percentage columns. I create a function for this."
   ]
  },
  {
   "cell_type": "code",
   "execution_count": 15,
   "metadata": {},
   "outputs": [],
   "source": [
    "def add_dollar(value):\n",
    "    \"\"\"Add a dollar sign in the front of a given value that is supposed to represent a money sum.\"\"\"\n",
    "    value = '$' + str(value)\n",
    "    return value\n",
    "\n",
    "def make_perc(value):\n",
    "    \"\"\"Convert a value into a percentage.\"\"\"\n",
    "    value = str(value * 100.00) + '%'\n",
    "    return value"
   ]
  },
  {
   "cell_type": "markdown",
   "metadata": {},
   "source": [
    "I can apply these functions using the `.apply()` function in the pandas library. This will render the function vectorized and will prevent me from having to iterate the function over every row."
   ]
  },
  {
   "cell_type": "code",
   "execution_count": 16,
   "metadata": {},
   "outputs": [],
   "source": [
    "df2['new_sales'] = df2.new_sales.apply(add_dollar)\n",
    "df2['sales'] = df2.sales.apply(add_dollar)\n",
    "\n",
    "# now for the percentages\n",
    "df2['cust_avail_v3'] = df2.cust_avail_v3.apply(make_perc)\n",
    "df2['new_conv'] = df2.new_conv.apply(make_perc)\n",
    "df2['new_sales_perc'] = df2.new_sales_perc.apply(make_perc)"
   ]
  },
  {
   "cell_type": "markdown",
   "metadata": {},
   "source": [
    "Now let's take a look at the new data and see if it's formatted the right way:"
   ]
  },
  {
   "cell_type": "code",
   "execution_count": 17,
   "metadata": {},
   "outputs": [
    {
     "data": {
      "text/html": [
       "<div>\n",
       "<style>\n",
       "    .dataframe thead tr:only-child th {\n",
       "        text-align: right;\n",
       "    }\n",
       "\n",
       "    .dataframe thead th {\n",
       "        text-align: left;\n",
       "    }\n",
       "\n",
       "    .dataframe tbody tr th {\n",
       "        vertical-align: top;\n",
       "    }\n",
       "</style>\n",
       "<table border=\"1\" class=\"dataframe\">\n",
       "  <thead>\n",
       "    <tr style=\"text-align: right;\">\n",
       "      <th></th>\n",
       "      <th>cust_avail_v3</th>\n",
       "      <th>css_count</th>\n",
       "      <th>css_score</th>\n",
       "      <th>orders</th>\n",
       "      <th>calls_per_day</th>\n",
       "      <th>new_sales</th>\n",
       "      <th>new_conv</th>\n",
       "      <th>date</th>\n",
       "      <th>sales</th>\n",
       "      <th>new_sales_perc</th>\n",
       "    </tr>\n",
       "  </thead>\n",
       "  <tbody>\n",
       "    <tr>\n",
       "      <th>0</th>\n",
       "      <td>84.78999999999999%</td>\n",
       "      <td>2</td>\n",
       "      <td>3.39</td>\n",
       "      <td>9.0</td>\n",
       "      <td>32.0</td>\n",
       "      <td>$697.16</td>\n",
       "      <td>1.59%</td>\n",
       "      <td>2018-04-02</td>\n",
       "      <td>$949.51</td>\n",
       "      <td>73.42%</td>\n",
       "    </tr>\n",
       "    <tr>\n",
       "      <th>1</th>\n",
       "      <td>93.33%</td>\n",
       "      <td>1</td>\n",
       "      <td>0.19</td>\n",
       "      <td>3.0</td>\n",
       "      <td>23.0</td>\n",
       "      <td>$704.84</td>\n",
       "      <td>19.36%</td>\n",
       "      <td>2018-04-03</td>\n",
       "      <td>$790.54</td>\n",
       "      <td>89.16%</td>\n",
       "    </tr>\n",
       "    <tr>\n",
       "      <th>2</th>\n",
       "      <td>88.79%</td>\n",
       "      <td>1</td>\n",
       "      <td>3.08</td>\n",
       "      <td>6.0</td>\n",
       "      <td>36.0</td>\n",
       "      <td>$214.46</td>\n",
       "      <td>16.23%</td>\n",
       "      <td>2018-04-04</td>\n",
       "      <td>$296.57</td>\n",
       "      <td>72.31%</td>\n",
       "    </tr>\n",
       "    <tr>\n",
       "      <th>3</th>\n",
       "      <td>88.81%</td>\n",
       "      <td>2</td>\n",
       "      <td>2.39</td>\n",
       "      <td>4.0</td>\n",
       "      <td>35.0</td>\n",
       "      <td>$281.23</td>\n",
       "      <td>13.489999999999998%</td>\n",
       "      <td>2018-04-05</td>\n",
       "      <td>$818.23</td>\n",
       "      <td>34.37%</td>\n",
       "    </tr>\n",
       "    <tr>\n",
       "      <th>4</th>\n",
       "      <td>88.79%</td>\n",
       "      <td>4</td>\n",
       "      <td>3.64</td>\n",
       "      <td>8.0</td>\n",
       "      <td>35.0</td>\n",
       "      <td>$86.92</td>\n",
       "      <td>4.45%</td>\n",
       "      <td>2018-04-09</td>\n",
       "      <td>$346.83</td>\n",
       "      <td>25.06%</td>\n",
       "    </tr>\n",
       "  </tbody>\n",
       "</table>\n",
       "</div>"
      ],
      "text/plain": [
       "        cust_avail_v3  css_count  css_score  orders  calls_per_day new_sales  \\\n",
       "0  84.78999999999999%          2       3.39     9.0           32.0   $697.16   \n",
       "1              93.33%          1       0.19     3.0           23.0   $704.84   \n",
       "2              88.79%          1       3.08     6.0           36.0   $214.46   \n",
       "3              88.81%          2       2.39     4.0           35.0   $281.23   \n",
       "4              88.79%          4       3.64     8.0           35.0    $86.92   \n",
       "\n",
       "              new_conv        date    sales new_sales_perc  \n",
       "0                1.59%  2018-04-02  $949.51         73.42%  \n",
       "1               19.36%  2018-04-03  $790.54         89.16%  \n",
       "2               16.23%  2018-04-04  $296.57         72.31%  \n",
       "3  13.489999999999998%  2018-04-05  $818.23         34.37%  \n",
       "4                4.45%  2018-04-09  $346.83         25.06%  "
      ]
     },
     "execution_count": 17,
     "metadata": {},
     "output_type": "execute_result"
    }
   ],
   "source": [
    "df2.head()"
   ]
  },
  {
   "cell_type": "markdown",
   "metadata": {},
   "source": [
    "Those weird super long decimals don't matter so I am going to leave them. It shouldn't affect the cleaning notebook.\n",
    "I can now export the data to `april_random.csv`.\n",
    "\n",
    "I do want to reorder the columns before I export the data."
   ]
  },
  {
   "cell_type": "code",
   "execution_count": 18,
   "metadata": {},
   "outputs": [
    {
     "data": {
      "text/html": [
       "<div>\n",
       "<style>\n",
       "    .dataframe thead tr:only-child th {\n",
       "        text-align: right;\n",
       "    }\n",
       "\n",
       "    .dataframe thead th {\n",
       "        text-align: left;\n",
       "    }\n",
       "\n",
       "    .dataframe tbody tr th {\n",
       "        vertical-align: top;\n",
       "    }\n",
       "</style>\n",
       "<table border=\"1\" class=\"dataframe\">\n",
       "  <thead>\n",
       "    <tr style=\"text-align: right;\">\n",
       "      <th></th>\n",
       "      <th>date</th>\n",
       "      <th>cust_avail_v3</th>\n",
       "      <th>css_count</th>\n",
       "      <th>css_score</th>\n",
       "      <th>orders</th>\n",
       "      <th>new_conv</th>\n",
       "      <th>new_sales</th>\n",
       "      <th>new_sales_perc</th>\n",
       "      <th>sales</th>\n",
       "      <th>calls_per_day</th>\n",
       "    </tr>\n",
       "  </thead>\n",
       "  <tbody>\n",
       "    <tr>\n",
       "      <th>0</th>\n",
       "      <td>2018-04-02</td>\n",
       "      <td>84.78999999999999%</td>\n",
       "      <td>2</td>\n",
       "      <td>3.39</td>\n",
       "      <td>9.0</td>\n",
       "      <td>1.59%</td>\n",
       "      <td>$697.16</td>\n",
       "      <td>73.42%</td>\n",
       "      <td>$949.51</td>\n",
       "      <td>32.0</td>\n",
       "    </tr>\n",
       "  </tbody>\n",
       "</table>\n",
       "</div>"
      ],
      "text/plain": [
       "         date       cust_avail_v3  css_count  css_score  orders new_conv  \\\n",
       "0  2018-04-02  84.78999999999999%          2       3.39     9.0    1.59%   \n",
       "\n",
       "  new_sales new_sales_perc    sales  calls_per_day  \n",
       "0   $697.16         73.42%  $949.51           32.0  "
      ]
     },
     "execution_count": 18,
     "metadata": {},
     "output_type": "execute_result"
    }
   ],
   "source": [
    "df2 = df2[['date', 'cust_avail_v3', 'css_count', 'css_score', 'orders', 'new_conv', 'new_sales', 'new_sales_perc',\n",
    "          'sales', 'calls_per_day']]\n",
    "df2.head(1)"
   ]
  },
  {
   "cell_type": "markdown",
   "metadata": {},
   "source": [
    "I am finally ready to export the data"
   ]
  },
  {
   "cell_type": "code",
   "execution_count": 19,
   "metadata": {},
   "outputs": [],
   "source": [
    "df2.to_csv('random_data.csv')"
   ]
  }
 ],
 "metadata": {
  "kernelspec": {
   "display_name": "Python 3",
   "language": "python",
   "name": "python3"
  },
  "language_info": {
   "codemirror_mode": {
    "name": "ipython",
    "version": 3
   },
   "file_extension": ".py",
   "mimetype": "text/x-python",
   "name": "python",
   "nbconvert_exporter": "python",
   "pygments_lexer": "ipython3",
   "version": "3.6.1"
  }
 },
 "nbformat": 4,
 "nbformat_minor": 2
}
