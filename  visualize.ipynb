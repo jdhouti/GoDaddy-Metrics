{
 "cells": [
  {
   "cell_type": "markdown",
   "metadata": {},
   "source": [
    "# Visualize\n",
    "#### By Julien Dhouti"
   ]
  },
  {
   "cell_type": "code",
   "execution_count": 1,
   "metadata": {},
   "outputs": [
    {
     "data": {
      "text/html": [
       "<script>requirejs.config({paths: { 'plotly': ['https://cdn.plot.ly/plotly-latest.min']},});if(!window.Plotly) {{require(['plotly'],function(plotly) {window.Plotly=plotly;});}}</script>"
      ],
      "text/vnd.plotly.v1+html": [
       "<script>requirejs.config({paths: { 'plotly': ['https://cdn.plot.ly/plotly-latest.min']},});if(!window.Plotly) {{require(['plotly'],function(plotly) {window.Plotly=plotly;});}}</script>"
      ]
     },
     "metadata": {},
     "output_type": "display_data"
    }
   ],
   "source": [
    "# First we import the necessary libraries\n",
    "import pandas as pd\n",
    "import plotly.plotly as py\n",
    "import plotly.tools as tls\n",
    "import plotly.graph_objs as go\n",
    "from plotly.offline import init_notebook_mode, iplot\n",
    "import numpy as np\n",
    "\n",
    "# turn off uploads for graphs in this notebook:\n",
    "init_notebook_mode(connected=True)"
   ]
  },
  {
   "cell_type": "code",
   "execution_count": 2,
   "metadata": {},
   "outputs": [],
   "source": [
    "df = pd.read_csv('data/clean_random_data.csv')"
   ]
  },
  {
   "cell_type": "markdown",
   "metadata": {},
   "source": [
    "Now that the data has been cleaned and stripped of any missing values, we can start visualizing it using the plotly library"
   ]
  },
  {
   "cell_type": "code",
   "execution_count": 3,
   "metadata": {},
   "outputs": [
    {
     "data": {
      "application/vnd.plotly.v1+json": {
       "data": [
        {
         "line": {
          "color": "rgb(244, 66, 149)"
         },
         "mode": "markers+lines",
         "name": "Total Sales",
         "type": "scatter",
         "x": [
          "2018-04-02",
          "2018-04-03",
          "2018-04-04",
          "2018-04-05",
          "2018-04-09",
          "2018-04-10",
          "2018-04-11",
          "2018-04-12",
          "2018-04-13",
          "2018-04-16",
          "2018-04-17",
          "2018-04-18",
          "2018-04-19",
          "2018-04-20",
          "2018-04-23",
          "2018-04-24",
          "2018-04-25",
          "2018-04-27",
          "2018-04-30"
         ],
         "y": [
          1361.15,
          1401.16,
          838.87,
          316.53,
          821.6,
          490.83,
          384.83,
          1371.04,
          149.76,
          1355.74,
          438.96,
          1004.54,
          41.97,
          436.26,
          837.12,
          728.14,
          381.57,
          697.34,
          480.91
         ]
        },
        {
         "line": {
          "color": "rgb(77, 244, 65)"
         },
         "mode": "markers+lines",
         "name": "New Sales",
         "type": "scatter",
         "x": [
          "2018-04-02",
          "2018-04-03",
          "2018-04-04",
          "2018-04-05",
          "2018-04-09",
          "2018-04-10",
          "2018-04-11",
          "2018-04-12",
          "2018-04-13",
          "2018-04-16",
          "2018-04-17",
          "2018-04-18",
          "2018-04-19",
          "2018-04-20",
          "2018-04-23",
          "2018-04-24",
          "2018-04-25",
          "2018-04-27",
          "2018-04-30"
         ],
         "y": [
          812.75,
          876.52,
          786.81,
          293.19,
          396.28,
          408.73,
          269.64,
          955.04,
          127.22,
          911.2,
          222.73,
          786.83,
          8.8,
          392.38,
          686.82,
          322.93,
          62.37,
          375.96,
          444.71
         ]
        }
       ],
       "layout": {
        "title": "Total Sales for April",
        "xaxis": {
         "title": "Days"
        },
        "yaxis": {
         "title": "Sales ($)"
        }
       }
      },
      "text/html": [
       "<div id=\"bf1b94fe-9e94-4dc6-b9b9-4b091148fca4\" style=\"height: 525px; width: 100%;\" class=\"plotly-graph-div\"></div><script type=\"text/javascript\">require([\"plotly\"], function(Plotly) { window.PLOTLYENV=window.PLOTLYENV || {};window.PLOTLYENV.BASE_URL=\"https://plot.ly\";Plotly.newPlot(\"bf1b94fe-9e94-4dc6-b9b9-4b091148fca4\", [{\"type\": \"scatter\", \"x\": [\"2018-04-02\", \"2018-04-03\", \"2018-04-04\", \"2018-04-05\", \"2018-04-09\", \"2018-04-10\", \"2018-04-11\", \"2018-04-12\", \"2018-04-13\", \"2018-04-16\", \"2018-04-17\", \"2018-04-18\", \"2018-04-19\", \"2018-04-20\", \"2018-04-23\", \"2018-04-24\", \"2018-04-25\", \"2018-04-27\", \"2018-04-30\"], \"y\": [1361.15, 1401.16, 838.87, 316.53, 821.6, 490.83, 384.83, 1371.04, 149.76, 1355.74, 438.96, 1004.54, 41.97, 436.26, 837.12, 728.14, 381.57, 697.34, 480.91], \"mode\": \"markers+lines\", \"name\": \"Total Sales\", \"line\": {\"color\": \"rgb(244, 66, 149)\"}}, {\"type\": \"scatter\", \"x\": [\"2018-04-02\", \"2018-04-03\", \"2018-04-04\", \"2018-04-05\", \"2018-04-09\", \"2018-04-10\", \"2018-04-11\", \"2018-04-12\", \"2018-04-13\", \"2018-04-16\", \"2018-04-17\", \"2018-04-18\", \"2018-04-19\", \"2018-04-20\", \"2018-04-23\", \"2018-04-24\", \"2018-04-25\", \"2018-04-27\", \"2018-04-30\"], \"y\": [812.75, 876.52, 786.81, 293.19, 396.28, 408.73, 269.64, 955.04, 127.22, 911.2, 222.73, 786.83, 8.8, 392.38, 686.82, 322.93, 62.37, 375.96, 444.71], \"mode\": \"markers+lines\", \"name\": \"New Sales\", \"line\": {\"color\": \"rgb(77, 244, 65)\"}}], {\"title\": \"Total Sales for April\", \"xaxis\": {\"title\": \"Days\"}, \"yaxis\": {\"title\": \"Sales ($)\"}}, {\"showLink\": true, \"linkText\": \"Export to plot.ly\"})});</script>"
      ],
      "text/vnd.plotly.v1+html": [
       "<div id=\"bf1b94fe-9e94-4dc6-b9b9-4b091148fca4\" style=\"height: 525px; width: 100%;\" class=\"plotly-graph-div\"></div><script type=\"text/javascript\">require([\"plotly\"], function(Plotly) { window.PLOTLYENV=window.PLOTLYENV || {};window.PLOTLYENV.BASE_URL=\"https://plot.ly\";Plotly.newPlot(\"bf1b94fe-9e94-4dc6-b9b9-4b091148fca4\", [{\"type\": \"scatter\", \"x\": [\"2018-04-02\", \"2018-04-03\", \"2018-04-04\", \"2018-04-05\", \"2018-04-09\", \"2018-04-10\", \"2018-04-11\", \"2018-04-12\", \"2018-04-13\", \"2018-04-16\", \"2018-04-17\", \"2018-04-18\", \"2018-04-19\", \"2018-04-20\", \"2018-04-23\", \"2018-04-24\", \"2018-04-25\", \"2018-04-27\", \"2018-04-30\"], \"y\": [1361.15, 1401.16, 838.87, 316.53, 821.6, 490.83, 384.83, 1371.04, 149.76, 1355.74, 438.96, 1004.54, 41.97, 436.26, 837.12, 728.14, 381.57, 697.34, 480.91], \"mode\": \"markers+lines\", \"name\": \"Total Sales\", \"line\": {\"color\": \"rgb(244, 66, 149)\"}}, {\"type\": \"scatter\", \"x\": [\"2018-04-02\", \"2018-04-03\", \"2018-04-04\", \"2018-04-05\", \"2018-04-09\", \"2018-04-10\", \"2018-04-11\", \"2018-04-12\", \"2018-04-13\", \"2018-04-16\", \"2018-04-17\", \"2018-04-18\", \"2018-04-19\", \"2018-04-20\", \"2018-04-23\", \"2018-04-24\", \"2018-04-25\", \"2018-04-27\", \"2018-04-30\"], \"y\": [812.75, 876.52, 786.81, 293.19, 396.28, 408.73, 269.64, 955.04, 127.22, 911.2, 222.73, 786.83, 8.8, 392.38, 686.82, 322.93, 62.37, 375.96, 444.71], \"mode\": \"markers+lines\", \"name\": \"New Sales\", \"line\": {\"color\": \"rgb(77, 244, 65)\"}}], {\"title\": \"Total Sales for April\", \"xaxis\": {\"title\": \"Days\"}, \"yaxis\": {\"title\": \"Sales ($)\"}}, {\"showLink\": true, \"linkText\": \"Export to plot.ly\"})});</script>"
      ]
     },
     "metadata": {},
     "output_type": "display_data"
    }
   ],
   "source": [
    "# We start by creating a basic line graph to show how I did in sales this month\n",
    "x = df.date\n",
    "y1 = df.sales\n",
    "y2 = df.new_sales\n",
    "\n",
    "# Create the trace\n",
    "total_sales = go.Scatter(\n",
    "    x=x,\n",
    "    y=y1,\n",
    "    mode='markers+lines',\n",
    "    name='Total Sales',\n",
    "    line=dict(\n",
    "        color='rgb(244, 66, 149)'\n",
    "    )\n",
    ")\n",
    "\n",
    "new_sales = go.Scatter(\n",
    "    x=x,\n",
    "    y=y2,\n",
    "    mode='markers+lines',\n",
    "    name='New Sales',\n",
    "    line=dict(\n",
    "        color='rgb(77, 244, 65)'\n",
    "    )\n",
    ")\n",
    "# Create the data from the traces\n",
    "data = go.Data([total_sales, new_sales])\n",
    "\n",
    "# Create the layout object\n",
    "layout = go.Layout(\n",
    "    title='Total Sales for April',\n",
    "    xaxis=go.XAxis(title='Days'),\n",
    "    yaxis=go.YAxis(title='Sales ($)')\n",
    ")\n",
    "\n",
    "# Put it all together and let's check it out\n",
    "figure = go.Figure(data=data, layout=layout)\n",
    "iplot(figure)"
   ]
  },
  {
   "cell_type": "markdown",
   "metadata": {},
   "source": [
    "Interesting, from the graph we can see that I performed better the first half of the month and then slowly performed worse as we approached the end.\n",
    "\n",
    "One thing that I wanted to find out is whether the number of sales I get a day is correlated with the number of calls that I receive. To answer this, I created a basic scatter plot."
   ]
  },
  {
   "cell_type": "code",
   "execution_count": 4,
   "metadata": {},
   "outputs": [
    {
     "data": {
      "application/vnd.plotly.v1+json": {
       "data": [
        {
         "marker": {
          "color": "rgb(130, 175, 255)",
          "line": {
           "width": 1
          },
          "size": 12
         },
         "mode": "markers",
         "text": [
          "2018-04-02",
          "2018-04-03",
          "2018-04-04",
          "2018-04-05",
          "2018-04-09",
          "2018-04-10",
          "2018-04-11",
          "2018-04-12",
          "2018-04-13",
          "2018-04-16",
          "2018-04-17",
          "2018-04-18",
          "2018-04-19",
          "2018-04-20",
          "2018-04-23",
          "2018-04-24",
          "2018-04-25",
          "2018-04-27",
          "2018-04-30"
         ],
         "type": "scatter",
         "x": [
          812.75,
          876.52,
          786.81,
          293.19,
          396.28,
          408.73,
          269.64,
          955.04,
          127.22,
          911.2,
          222.73,
          786.83,
          8.8,
          392.38,
          686.82,
          322.93,
          62.37,
          375.96,
          444.71
         ],
         "y": [
          37,
          25,
          28,
          33,
          34,
          32,
          31,
          34,
          36,
          33,
          22,
          33,
          34,
          26,
          23,
          25,
          34,
          36,
          35
         ]
        }
       ],
       "layout": {
        "title": "New Sales vs. Number of Calls",
        "xaxis": {
         "title": "New Sales ($)"
        },
        "yaxis": {
         "title": "Number of Calls"
        }
       }
      },
      "text/html": [
       "<div id=\"a1ac9079-d84a-479b-8058-0b5b410137fc\" style=\"height: 525px; width: 100%;\" class=\"plotly-graph-div\"></div><script type=\"text/javascript\">require([\"plotly\"], function(Plotly) { window.PLOTLYENV=window.PLOTLYENV || {};window.PLOTLYENV.BASE_URL=\"https://plot.ly\";Plotly.newPlot(\"a1ac9079-d84a-479b-8058-0b5b410137fc\", [{\"type\": \"scatter\", \"x\": [812.75, 876.52, 786.81, 293.19, 396.28, 408.73, 269.64, 955.04, 127.22, 911.2, 222.73, 786.83, 8.8, 392.38, 686.82, 322.93, 62.37, 375.96, 444.71], \"y\": [37.0, 25.0, 28.0, 33.0, 34.0, 32.0, 31.0, 34.0, 36.0, 33.0, 22.0, 33.0, 34.0, 26.0, 23.0, 25.0, 34.0, 36.0, 35.0], \"mode\": \"markers\", \"text\": [\"2018-04-02\", \"2018-04-03\", \"2018-04-04\", \"2018-04-05\", \"2018-04-09\", \"2018-04-10\", \"2018-04-11\", \"2018-04-12\", \"2018-04-13\", \"2018-04-16\", \"2018-04-17\", \"2018-04-18\", \"2018-04-19\", \"2018-04-20\", \"2018-04-23\", \"2018-04-24\", \"2018-04-25\", \"2018-04-27\", \"2018-04-30\"], \"marker\": {\"color\": \"rgb(130, 175, 255)\", \"size\": 12, \"line\": {\"width\": 1}}}], {\"title\": \"New Sales vs. Number of Calls\", \"xaxis\": {\"title\": \"New Sales ($)\"}, \"yaxis\": {\"title\": \"Number of Calls\"}}, {\"showLink\": true, \"linkText\": \"Export to plot.ly\"})});</script>"
      ],
      "text/vnd.plotly.v1+html": [
       "<div id=\"a1ac9079-d84a-479b-8058-0b5b410137fc\" style=\"height: 525px; width: 100%;\" class=\"plotly-graph-div\"></div><script type=\"text/javascript\">require([\"plotly\"], function(Plotly) { window.PLOTLYENV=window.PLOTLYENV || {};window.PLOTLYENV.BASE_URL=\"https://plot.ly\";Plotly.newPlot(\"a1ac9079-d84a-479b-8058-0b5b410137fc\", [{\"type\": \"scatter\", \"x\": [812.75, 876.52, 786.81, 293.19, 396.28, 408.73, 269.64, 955.04, 127.22, 911.2, 222.73, 786.83, 8.8, 392.38, 686.82, 322.93, 62.37, 375.96, 444.71], \"y\": [37.0, 25.0, 28.0, 33.0, 34.0, 32.0, 31.0, 34.0, 36.0, 33.0, 22.0, 33.0, 34.0, 26.0, 23.0, 25.0, 34.0, 36.0, 35.0], \"mode\": \"markers\", \"text\": [\"2018-04-02\", \"2018-04-03\", \"2018-04-04\", \"2018-04-05\", \"2018-04-09\", \"2018-04-10\", \"2018-04-11\", \"2018-04-12\", \"2018-04-13\", \"2018-04-16\", \"2018-04-17\", \"2018-04-18\", \"2018-04-19\", \"2018-04-20\", \"2018-04-23\", \"2018-04-24\", \"2018-04-25\", \"2018-04-27\", \"2018-04-30\"], \"marker\": {\"color\": \"rgb(130, 175, 255)\", \"size\": 12, \"line\": {\"width\": 1}}}], {\"title\": \"New Sales vs. Number of Calls\", \"xaxis\": {\"title\": \"New Sales ($)\"}, \"yaxis\": {\"title\": \"Number of Calls\"}}, {\"showLink\": true, \"linkText\": \"Export to plot.ly\"})});</script>"
      ]
     },
     "metadata": {},
     "output_type": "display_data"
    }
   ],
   "source": [
    "x = df.new_sales\n",
    "y = df.calls_per_day\n",
    "\n",
    "# Create the traces\n",
    "main = go.Scatter(\n",
    "    x=x,\n",
    "    y=y,\n",
    "    mode='markers',\n",
    "    text=df.date,\n",
    "    marker=dict(\n",
    "        color='rgb(130, 175, 255)',\n",
    "        size=12,\n",
    "        line=dict(\n",
    "            width=1\n",
    "        )\n",
    "    )\n",
    ")\n",
    "\n",
    "# create the data\n",
    "data = go.Data([main])\n",
    "\n",
    "# create the layout\n",
    "layout = go.Layout(\n",
    "    title='New Sales vs. Number of Calls',\n",
    "    xaxis=go.XAxis(title='New Sales ($)'),\n",
    "    yaxis=go.YAxis(title='Number of Calls')\n",
    ")\n",
    "\n",
    "# finish the graph\n",
    "figure = go.Figure(data=data, layout=layout)\n",
    "iplot(figure)"
   ]
  },
  {
   "cell_type": "markdown",
   "metadata": {},
   "source": [
    "There doesn't seem to be any correlation from the graph. Perhaps I should wait until I have more data.\n",
    "\n",
    "Another graph that would be interesting is comparing 3 variables which would require a 3d scatter plot. The 3 variables that I want to compare are customer availability, number of orders, and the amount of new sales. This would allow me to see if by increasing the availability, everything else increases with it."
   ]
  },
  {
   "cell_type": "code",
   "execution_count": 5,
   "metadata": {},
   "outputs": [
    {
     "data": {
      "application/vnd.plotly.v1+json": {
       "data": [
        {
         "marker": {
          "color": "rgb(164, 244, 66)",
          "line": {
           "width": 1
          },
          "size": 13
         },
         "mode": "markers",
         "text": [
          "2018-04-02",
          "2018-04-03",
          "2018-04-04",
          "2018-04-05",
          "2018-04-09",
          "2018-04-10",
          "2018-04-11",
          "2018-04-12",
          "2018-04-13",
          "2018-04-16",
          "2018-04-17",
          "2018-04-18",
          "2018-04-19",
          "2018-04-20",
          "2018-04-23",
          "2018-04-24",
          "2018-04-25",
          "2018-04-27",
          "2018-04-30"
         ],
         "type": "scatter3d",
         "x": [
          812.75,
          876.52,
          786.81,
          293.19,
          396.28,
          408.73,
          269.64,
          955.04,
          127.22,
          911.2,
          222.73,
          786.83,
          8.8,
          392.38,
          686.82,
          322.93,
          62.37,
          375.96,
          444.71
         ],
         "y": [
          7,
          6,
          8,
          5,
          2,
          5,
          8,
          10,
          9,
          7,
          5,
          9,
          4,
          9,
          6,
          6,
          1,
          2,
          3
         ],
         "z": [
          37,
          25,
          28,
          33,
          34,
          32,
          31,
          34,
          36,
          33,
          22,
          33,
          34,
          26,
          23,
          25,
          34,
          36,
          35
         ]
        }
       ],
       "layout": {
        "margin": {
         "b": 10,
         "l": 10,
         "r": 20,
         "t": 10
        },
        "scene": {
         "xaxis": {
          "title": "New Sales ($)"
         },
         "yaxis": {
          "title": "# of orders"
         },
         "zaxis": {
          "title": "# of calls"
         }
        },
        "title": "New Sales vs. Orders vs. Calls",
        "width": 700
       }
      },
      "text/html": [
       "<div id=\"0fece7c8-97c3-49a5-9f26-cb03a108f0fd\" style=\"height: 525px; width: 700px;\" class=\"plotly-graph-div\"></div><script type=\"text/javascript\">require([\"plotly\"], function(Plotly) { window.PLOTLYENV=window.PLOTLYENV || {};window.PLOTLYENV.BASE_URL=\"https://plot.ly\";Plotly.newPlot(\"0fece7c8-97c3-49a5-9f26-cb03a108f0fd\", [{\"type\": \"scatter3d\", \"x\": [812.75, 876.52, 786.81, 293.19, 396.28, 408.73, 269.64, 955.04, 127.22, 911.2, 222.73, 786.83, 8.8, 392.38, 686.82, 322.93, 62.37, 375.96, 444.71], \"y\": [7.0, 6.0, 8.0, 5.0, 2.0, 5.0, 8.0, 10.0, 9.0, 7.0, 5.0, 9.0, 4.0, 9.0, 6.0, 6.0, 1.0, 2.0, 3.0], \"z\": [37.0, 25.0, 28.0, 33.0, 34.0, 32.0, 31.0, 34.0, 36.0, 33.0, 22.0, 33.0, 34.0, 26.0, 23.0, 25.0, 34.0, 36.0, 35.0], \"text\": [\"2018-04-02\", \"2018-04-03\", \"2018-04-04\", \"2018-04-05\", \"2018-04-09\", \"2018-04-10\", \"2018-04-11\", \"2018-04-12\", \"2018-04-13\", \"2018-04-16\", \"2018-04-17\", \"2018-04-18\", \"2018-04-19\", \"2018-04-20\", \"2018-04-23\", \"2018-04-24\", \"2018-04-25\", \"2018-04-27\", \"2018-04-30\"], \"mode\": \"markers\", \"marker\": {\"color\": \"rgb(164, 244, 66)\", \"size\": 13, \"line\": {\"width\": 1}}}], {\"scene\": {\"xaxis\": {\"title\": \"New Sales ($)\"}, \"yaxis\": {\"title\": \"# of orders\"}, \"zaxis\": {\"title\": \"# of calls\"}}, \"width\": 700, \"title\": \"New Sales vs. Orders vs. Calls\", \"margin\": {\"r\": 20, \"b\": 10, \"l\": 10, \"t\": 10}}, {\"showLink\": true, \"linkText\": \"Export to plot.ly\"})});</script>"
      ],
      "text/vnd.plotly.v1+html": [
       "<div id=\"0fece7c8-97c3-49a5-9f26-cb03a108f0fd\" style=\"height: 525px; width: 700px;\" class=\"plotly-graph-div\"></div><script type=\"text/javascript\">require([\"plotly\"], function(Plotly) { window.PLOTLYENV=window.PLOTLYENV || {};window.PLOTLYENV.BASE_URL=\"https://plot.ly\";Plotly.newPlot(\"0fece7c8-97c3-49a5-9f26-cb03a108f0fd\", [{\"type\": \"scatter3d\", \"x\": [812.75, 876.52, 786.81, 293.19, 396.28, 408.73, 269.64, 955.04, 127.22, 911.2, 222.73, 786.83, 8.8, 392.38, 686.82, 322.93, 62.37, 375.96, 444.71], \"y\": [7.0, 6.0, 8.0, 5.0, 2.0, 5.0, 8.0, 10.0, 9.0, 7.0, 5.0, 9.0, 4.0, 9.0, 6.0, 6.0, 1.0, 2.0, 3.0], \"z\": [37.0, 25.0, 28.0, 33.0, 34.0, 32.0, 31.0, 34.0, 36.0, 33.0, 22.0, 33.0, 34.0, 26.0, 23.0, 25.0, 34.0, 36.0, 35.0], \"text\": [\"2018-04-02\", \"2018-04-03\", \"2018-04-04\", \"2018-04-05\", \"2018-04-09\", \"2018-04-10\", \"2018-04-11\", \"2018-04-12\", \"2018-04-13\", \"2018-04-16\", \"2018-04-17\", \"2018-04-18\", \"2018-04-19\", \"2018-04-20\", \"2018-04-23\", \"2018-04-24\", \"2018-04-25\", \"2018-04-27\", \"2018-04-30\"], \"mode\": \"markers\", \"marker\": {\"color\": \"rgb(164, 244, 66)\", \"size\": 13, \"line\": {\"width\": 1}}}], {\"scene\": {\"xaxis\": {\"title\": \"New Sales ($)\"}, \"yaxis\": {\"title\": \"# of orders\"}, \"zaxis\": {\"title\": \"# of calls\"}}, \"width\": 700, \"title\": \"New Sales vs. Orders vs. Calls\", \"margin\": {\"r\": 20, \"b\": 10, \"l\": 10, \"t\": 10}}, {\"showLink\": true, \"linkText\": \"Export to plot.ly\"})});</script>"
      ]
     },
     "metadata": {},
     "output_type": "display_data"
    }
   ],
   "source": [
    "x = df.new_sales\n",
    "y = df.orders\n",
    "z = df.calls_per_day\n",
    "\n",
    "# create the trace\n",
    "main = go.Scatter3d(\n",
    "    x=x,\n",
    "    y=y,\n",
    "    z=z,\n",
    "    text=df.date,\n",
    "    mode='markers',\n",
    "    marker=dict(\n",
    "        color='rgb(164, 244, 66)',\n",
    "        size=13,\n",
    "        line=dict(\n",
    "            width=1\n",
    "        )\n",
    "    )\n",
    ")\n",
    "\n",
    "# create the data\n",
    "data = go.Data([main])\n",
    "\n",
    "# create the layout\n",
    "layout = go.Layout(\n",
    "    scene = dict(\n",
    "        xaxis = dict(title='New Sales ($)'),\n",
    "        yaxis = dict(title='# of orders'),\n",
    "        zaxis = dict(title='# of calls'),\n",
    "    ),\n",
    "    width=700,\n",
    "    title='New Sales vs. Orders vs. Calls',\n",
    "    margin=dict(\n",
    "        r=20, b=10,\n",
    "        l=10, t=10\n",
    "    )\n",
    ")\n",
    "\n",
    "# Create the figure\n",
    "figure = go.Figure(data=data, layout=layout)\n",
    "iplot(figure)"
   ]
  }
 ],
 "metadata": {
  "kernelspec": {
   "display_name": "Python 3",
   "language": "python",
   "name": "python3"
  },
  "language_info": {
   "codemirror_mode": {
    "name": "ipython",
    "version": 3
   },
   "file_extension": ".py",
   "mimetype": "text/x-python",
   "name": "python",
   "nbconvert_exporter": "python",
   "pygments_lexer": "ipython3",
   "version": "3.6.1"
  }
 },
 "nbformat": 4,
 "nbformat_minor": 2
}
